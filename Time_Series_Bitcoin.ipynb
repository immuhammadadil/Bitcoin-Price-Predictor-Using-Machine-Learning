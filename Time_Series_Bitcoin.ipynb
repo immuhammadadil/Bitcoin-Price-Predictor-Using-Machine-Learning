{
  "nbformat": 4,
  "nbformat_minor": 0,
  "metadata": {
    "colab": {
      "name": "Time_Series_Bitcoin.ipynb",
      "provenance": [],
      "collapsed_sections": []
    },
    "kernelspec": {
      "name": "python3",
      "display_name": "Python 3"
    },
    "language_info": {
      "name": "python"
    }
  },
  "cells": [
    {
      "cell_type": "code",
      "metadata": {
        "id": "YLvQWi037xit"
      },
      "source": [
        "import tensorflow as tf\n",
        "import pandas as pd\n",
        "import numpy as np\n",
        "import matplotlib.pyplot as plt"
      ],
      "execution_count": 4,
      "outputs": []
    },
    {
      "cell_type": "code",
      "metadata": {
        "colab": {
          "base_uri": "https://localhost:8080/"
        },
        "id": "tO_iGabo775y",
        "outputId": "56a6b0c2-19f5-4970-ac37-ff6a331bb81d"
      },
      "source": [
        "print(tf.__version__)"
      ],
      "execution_count": 5,
      "outputs": [
        {
          "output_type": "stream",
          "name": "stdout",
          "text": [
            "2.7.0\n"
          ]
        }
      ]
    },
    {
      "cell_type": "code",
      "metadata": {
        "colab": {
          "base_uri": "https://localhost:8080/",
          "height": 203
        },
        "id": "RV-q2w227-en",
        "outputId": "ba583339-90a2-400c-84ff-7cfbb4641d13"
      },
      "source": [
        "data_df=pd.read_csv('BTC_USD_2014-11-02_2021-11-01-CoinDesk.csv')\n",
        "data_df.head()"
      ],
      "execution_count": 6,
      "outputs": [
        {
          "output_type": "execute_result",
          "data": {
            "text/html": [
              "<div>\n",
              "<style scoped>\n",
              "    .dataframe tbody tr th:only-of-type {\n",
              "        vertical-align: middle;\n",
              "    }\n",
              "\n",
              "    .dataframe tbody tr th {\n",
              "        vertical-align: top;\n",
              "    }\n",
              "\n",
              "    .dataframe thead th {\n",
              "        text-align: right;\n",
              "    }\n",
              "</style>\n",
              "<table border=\"1\" class=\"dataframe\">\n",
              "  <thead>\n",
              "    <tr style=\"text-align: right;\">\n",
              "      <th></th>\n",
              "      <th>Currency</th>\n",
              "      <th>Date</th>\n",
              "      <th>Closing Price (USD)</th>\n",
              "      <th>24h Open (USD)</th>\n",
              "      <th>24h High (USD)</th>\n",
              "      <th>24h Low (USD)</th>\n",
              "    </tr>\n",
              "  </thead>\n",
              "  <tbody>\n",
              "    <tr>\n",
              "      <th>0</th>\n",
              "      <td>BTC</td>\n",
              "      <td>2014-11-02</td>\n",
              "      <td>331.60083</td>\n",
              "      <td>325.22633</td>\n",
              "      <td>333.75983</td>\n",
              "      <td>319.04350</td>\n",
              "    </tr>\n",
              "    <tr>\n",
              "      <th>1</th>\n",
              "      <td>BTC</td>\n",
              "      <td>2014-11-03</td>\n",
              "      <td>324.71833</td>\n",
              "      <td>331.60083</td>\n",
              "      <td>332.75133</td>\n",
              "      <td>323.06333</td>\n",
              "    </tr>\n",
              "    <tr>\n",
              "      <th>2</th>\n",
              "      <td>BTC</td>\n",
              "      <td>2014-11-04</td>\n",
              "      <td>332.45666</td>\n",
              "      <td>324.71833</td>\n",
              "      <td>335.81166</td>\n",
              "      <td>320.93333</td>\n",
              "    </tr>\n",
              "    <tr>\n",
              "      <th>3</th>\n",
              "      <td>BTC</td>\n",
              "      <td>2014-11-05</td>\n",
              "      <td>336.58500</td>\n",
              "      <td>332.45666</td>\n",
              "      <td>341.49000</td>\n",
              "      <td>328.56166</td>\n",
              "    </tr>\n",
              "    <tr>\n",
              "      <th>4</th>\n",
              "      <td>BTC</td>\n",
              "      <td>2014-11-06</td>\n",
              "      <td>346.77500</td>\n",
              "      <td>336.58500</td>\n",
              "      <td>351.57500</td>\n",
              "      <td>336.02833</td>\n",
              "    </tr>\n",
              "  </tbody>\n",
              "</table>\n",
              "</div>"
            ],
            "text/plain": [
              "  Currency        Date  ...  24h High (USD)  24h Low (USD)\n",
              "0      BTC  2014-11-02  ...       333.75983      319.04350\n",
              "1      BTC  2014-11-03  ...       332.75133      323.06333\n",
              "2      BTC  2014-11-04  ...       335.81166      320.93333\n",
              "3      BTC  2014-11-05  ...       341.49000      328.56166\n",
              "4      BTC  2014-11-06  ...       351.57500      336.02833\n",
              "\n",
              "[5 rows x 6 columns]"
            ]
          },
          "metadata": {},
          "execution_count": 6
        }
      ]
    },
    {
      "cell_type": "code",
      "metadata": {
        "colab": {
          "base_uri": "https://localhost:8080/"
        },
        "id": "WAGGz5jkR1x1",
        "outputId": "8d1aa1ee-6011-403e-e194-bab022918e00"
      },
      "source": [
        "data_df.info()"
      ],
      "execution_count": 7,
      "outputs": [
        {
          "output_type": "stream",
          "name": "stdout",
          "text": [
            "<class 'pandas.core.frame.DataFrame'>\n",
            "RangeIndex: 2557 entries, 0 to 2556\n",
            "Data columns (total 6 columns):\n",
            " #   Column               Non-Null Count  Dtype  \n",
            "---  ------               --------------  -----  \n",
            " 0   Currency             2557 non-null   object \n",
            " 1   Date                 2557 non-null   object \n",
            " 2   Closing Price (USD)  2557 non-null   float64\n",
            " 3   24h Open (USD)       2557 non-null   float64\n",
            " 4   24h High (USD)       2557 non-null   float64\n",
            " 5   24h Low (USD)        2557 non-null   float64\n",
            "dtypes: float64(4), object(2)\n",
            "memory usage: 120.0+ KB\n"
          ]
        }
      ]
    },
    {
      "cell_type": "code",
      "metadata": {
        "colab": {
          "base_uri": "https://localhost:8080/",
          "height": 203
        },
        "id": "brfE6SQWXK3A",
        "outputId": "f980fbc8-de37-444d-a9ae-687711515538"
      },
      "source": [
        "data_df=data_df.rename(columns={\"Closing Price (USD)\": \"Price\"})\n",
        "data_df.head()"
      ],
      "execution_count": 8,
      "outputs": [
        {
          "output_type": "execute_result",
          "data": {
            "text/html": [
              "<div>\n",
              "<style scoped>\n",
              "    .dataframe tbody tr th:only-of-type {\n",
              "        vertical-align: middle;\n",
              "    }\n",
              "\n",
              "    .dataframe tbody tr th {\n",
              "        vertical-align: top;\n",
              "    }\n",
              "\n",
              "    .dataframe thead th {\n",
              "        text-align: right;\n",
              "    }\n",
              "</style>\n",
              "<table border=\"1\" class=\"dataframe\">\n",
              "  <thead>\n",
              "    <tr style=\"text-align: right;\">\n",
              "      <th></th>\n",
              "      <th>Currency</th>\n",
              "      <th>Date</th>\n",
              "      <th>Price</th>\n",
              "      <th>24h Open (USD)</th>\n",
              "      <th>24h High (USD)</th>\n",
              "      <th>24h Low (USD)</th>\n",
              "    </tr>\n",
              "  </thead>\n",
              "  <tbody>\n",
              "    <tr>\n",
              "      <th>0</th>\n",
              "      <td>BTC</td>\n",
              "      <td>2014-11-02</td>\n",
              "      <td>331.60083</td>\n",
              "      <td>325.22633</td>\n",
              "      <td>333.75983</td>\n",
              "      <td>319.04350</td>\n",
              "    </tr>\n",
              "    <tr>\n",
              "      <th>1</th>\n",
              "      <td>BTC</td>\n",
              "      <td>2014-11-03</td>\n",
              "      <td>324.71833</td>\n",
              "      <td>331.60083</td>\n",
              "      <td>332.75133</td>\n",
              "      <td>323.06333</td>\n",
              "    </tr>\n",
              "    <tr>\n",
              "      <th>2</th>\n",
              "      <td>BTC</td>\n",
              "      <td>2014-11-04</td>\n",
              "      <td>332.45666</td>\n",
              "      <td>324.71833</td>\n",
              "      <td>335.81166</td>\n",
              "      <td>320.93333</td>\n",
              "    </tr>\n",
              "    <tr>\n",
              "      <th>3</th>\n",
              "      <td>BTC</td>\n",
              "      <td>2014-11-05</td>\n",
              "      <td>336.58500</td>\n",
              "      <td>332.45666</td>\n",
              "      <td>341.49000</td>\n",
              "      <td>328.56166</td>\n",
              "    </tr>\n",
              "    <tr>\n",
              "      <th>4</th>\n",
              "      <td>BTC</td>\n",
              "      <td>2014-11-06</td>\n",
              "      <td>346.77500</td>\n",
              "      <td>336.58500</td>\n",
              "      <td>351.57500</td>\n",
              "      <td>336.02833</td>\n",
              "    </tr>\n",
              "  </tbody>\n",
              "</table>\n",
              "</div>"
            ],
            "text/plain": [
              "  Currency        Date  ...  24h High (USD)  24h Low (USD)\n",
              "0      BTC  2014-11-02  ...       333.75983      319.04350\n",
              "1      BTC  2014-11-03  ...       332.75133      323.06333\n",
              "2      BTC  2014-11-04  ...       335.81166      320.93333\n",
              "3      BTC  2014-11-05  ...       341.49000      328.56166\n",
              "4      BTC  2014-11-06  ...       351.57500      336.02833\n",
              "\n",
              "[5 rows x 6 columns]"
            ]
          },
          "metadata": {},
          "execution_count": 8
        }
      ]
    },
    {
      "cell_type": "code",
      "metadata": {
        "colab": {
          "base_uri": "https://localhost:8080/",
          "height": 203
        },
        "id": "8MnqmgBdXeMd",
        "outputId": "b1872762-094a-4794-eefa-74f3114c9e71"
      },
      "source": [
        "data_1=data_df[[\"Date\", \"Price\"]]\n",
        "data_1.head()"
      ],
      "execution_count": 9,
      "outputs": [
        {
          "output_type": "execute_result",
          "data": {
            "text/html": [
              "<div>\n",
              "<style scoped>\n",
              "    .dataframe tbody tr th:only-of-type {\n",
              "        vertical-align: middle;\n",
              "    }\n",
              "\n",
              "    .dataframe tbody tr th {\n",
              "        vertical-align: top;\n",
              "    }\n",
              "\n",
              "    .dataframe thead th {\n",
              "        text-align: right;\n",
              "    }\n",
              "</style>\n",
              "<table border=\"1\" class=\"dataframe\">\n",
              "  <thead>\n",
              "    <tr style=\"text-align: right;\">\n",
              "      <th></th>\n",
              "      <th>Date</th>\n",
              "      <th>Price</th>\n",
              "    </tr>\n",
              "  </thead>\n",
              "  <tbody>\n",
              "    <tr>\n",
              "      <th>0</th>\n",
              "      <td>2014-11-02</td>\n",
              "      <td>331.60083</td>\n",
              "    </tr>\n",
              "    <tr>\n",
              "      <th>1</th>\n",
              "      <td>2014-11-03</td>\n",
              "      <td>324.71833</td>\n",
              "    </tr>\n",
              "    <tr>\n",
              "      <th>2</th>\n",
              "      <td>2014-11-04</td>\n",
              "      <td>332.45666</td>\n",
              "    </tr>\n",
              "    <tr>\n",
              "      <th>3</th>\n",
              "      <td>2014-11-05</td>\n",
              "      <td>336.58500</td>\n",
              "    </tr>\n",
              "    <tr>\n",
              "      <th>4</th>\n",
              "      <td>2014-11-06</td>\n",
              "      <td>346.77500</td>\n",
              "    </tr>\n",
              "  </tbody>\n",
              "</table>\n",
              "</div>"
            ],
            "text/plain": [
              "         Date      Price\n",
              "0  2014-11-02  331.60083\n",
              "1  2014-11-03  324.71833\n",
              "2  2014-11-04  332.45666\n",
              "3  2014-11-05  336.58500\n",
              "4  2014-11-06  346.77500"
            ]
          },
          "metadata": {},
          "execution_count": 9
        }
      ]
    },
    {
      "cell_type": "code",
      "metadata": {
        "colab": {
          "base_uri": "https://localhost:8080/",
          "height": 446
        },
        "id": "HT_WkudsY-6S",
        "outputId": "76fb8032-aef9-4e6d-c61e-691d1aec4d03"
      },
      "source": [
        "data_1.plot(figsize=(10, 7))\n",
        "plt.ylabel(\"BTC Price\")\n",
        "plt.title(\"Price of Bitcoin from 1 Oct 2013 to 18 May 2021\", fontsize=16)\n",
        "plt.legend(fontsize=14);"
      ],
      "execution_count": 10,
      "outputs": [
        {
          "output_type": "display_data",
          "data": {
            "image/png": "[encoded data removed]",
            "text/plain": [
              "<Figure size 720x504 with 1 Axes>"
            ]
          },
          "metadata": {
            "needs_background": "light"
          }
        }
      ]
    },
    {
      "cell_type": "markdown",
      "metadata": {
        "id": "y9BbhKnemAY8"
      },
      "source": [
        "Create train & test sets for time series"
      ]
    },
    {
      "cell_type": "code",
      "metadata": {
        "colab": {
          "base_uri": "https://localhost:8080/"
        },
        "id": "f6ZAxZvbbfov",
        "outputId": "5ccf8005-f5e2-4c77-ae27-87f71b8f6ccc"
      },
      "source": [
        "# Get bitcoin date numpy array\n",
        "timesteps = data_1.Date.to_numpy()\n",
        "prices = data_1.Price.to_numpy()\n",
        "\n",
        "timesteps[:10], prices[:10]"
      ],
      "execution_count": 11,
      "outputs": [
        {
          "output_type": "execute_result",
          "data": {
            "text/plain": [
              "(array(['2014-11-02', '2014-11-03', '2014-11-04', '2014-11-05',\n",
              "        '2014-11-06', '2014-11-07', '2014-11-08', '2014-11-09',\n",
              "        '2014-11-10', '2014-11-11'], dtype=object),\n",
              " array([331.60083, 324.71833, 332.45666, 336.585  , 346.775  , 344.81166,\n",
              "        343.065  , 358.50166, 368.07666, 376.99666]))"
            ]
          },
          "metadata": {},
          "execution_count": 11
        }
      ]
    },
    {
      "cell_type": "markdown",
      "metadata": {
        "id": "LtOKtIAB7DIY"
      },
      "source": [
        "train Test Split\n"
      ]
    },
    {
      "cell_type": "code",
      "metadata": {
        "colab": {
          "base_uri": "https://localhost:8080/"
        },
        "id": "ipFYkYPl7Gp9",
        "outputId": "9731709d-bfe2-4d21-960b-56cb8ac15f69"
      },
      "source": [
        "# Create train and test splits the right way for time series data\n",
        "split_size = int(0.8 * len(prices)) # 80% train, 20% test\n",
        "\n",
        "# Create train data splits (everything before the split)\n",
        "X_train, y_train = timesteps[:split_size], prices[:split_size]\n",
        "\n",
        "# Create test data splits (everything after the split)\n",
        "X_test, y_test = timesteps[split_size:], prices[split_size:]\n",
        "\n",
        "len(X_train), len(X_test), len(y_train), len(y_test)"
      ],
      "execution_count": 12,
      "outputs": [
        {
          "output_type": "execute_result",
          "data": {
            "text/plain": [
              "(2045, 512, 2045, 512)"
            ]
          },
          "metadata": {},
          "execution_count": 12
        }
      ]
    },
    {
      "cell_type": "code",
      "metadata": {
        "colab": {
          "base_uri": "https://localhost:8080/",
          "height": 442
        },
        "id": "piA7uMPS7Knv",
        "outputId": "7beee5d3-4069-4621-ab82-fe6f5a4a4a0e"
      },
      "source": [
        "# Plot correctly made splits\n",
        "plt.figure(figsize=(10, 7))\n",
        "plt.scatter(X_train, y_train, s=5, label=\"Train data\")\n",
        "plt.scatter(X_test, y_test, s=5, label=\"Test data\")\n",
        "plt.xlabel(\"Date\")\n",
        "plt.ylabel(\"BTC Price\")\n",
        "plt.legend(fontsize=14)\n",
        "plt.show();"
      ],
      "execution_count": 13,
      "outputs": [
        {
          "output_type": "display_data",
          "data": {
            "image/png": "[encoded data removed]",
            "text/plain": [
              "<Figure size 720x504 with 1 Axes>"
            ]
          },
          "metadata": {
            "needs_background": "light"
          }
        }
      ]
    },
    {
      "cell_type": "markdown",
      "metadata": {
        "id": "swohpvnw8SbO"
      },
      "source": [
        "Creating a Naive Forcest"
      ]
    },
    {
      "cell_type": "code",
      "metadata": {
        "colab": {
          "base_uri": "https://localhost:8080/"
        },
        "id": "aeA5hW0v8XUu",
        "outputId": "8b996f3a-fde4-4769-ac2f-d0c2110bb32f"
      },
      "source": [
        "# Create a naïve forecast\n",
        "naive_forecast = y_test[:-1] # Naïve forecast equals every value excluding the last value\n",
        "naive_forecast[:10], naive_forecast[-10:] # View frist 10 and last 10 "
      ],
      "execution_count": 14,
      "outputs": [
        {
          "output_type": "execute_result",
          "data": {
            "text/plain": [
              "(array([9791.92789977, 9786.14202048, 9874.96704752, 9260.83264099,\n",
              "        9464.22809682, 9458.6597544 , 9351.95372801, 9441.76899555,\n",
              "        9510.66063729, 9457.62707441]),\n",
              " array([60689.23826486, 61124.34712562, 60936.15085142, 63004.38111467,\n",
              "        60399.73493255, 58602.20253518, 60619.26694419, 62302.70509175,\n",
              "        61342.60155131, 61374.27837334]))"
            ]
          },
          "metadata": {},
          "execution_count": 14
        }
      ]
    },
    {
      "cell_type": "markdown",
      "metadata": {
        "id": "Yz-y750_83sn"
      },
      "source": [
        "Creating Time Series Evaluation Function"
      ]
    },
    {
      "cell_type": "code",
      "metadata": {
        "id": "nRUSc-1j82U3"
      },
      "source": [
        "# MASE implemented courtesy of sktime - https://github.com/alan-turing-institute/sktime/blob/ee7a06843a44f4aaec7582d847e36073a9ab0566/sktime/performance_metrics/forecasting/_functions.py#L16\n",
        "def mean_absolute_scaled_error(y_true, y_pred):\n",
        "  \"\"\"\n",
        "  Implement MASE (assuming no seasonality of data).\n",
        "  \"\"\"\n",
        "  mae = tf.reduce_mean(tf.abs(y_true - y_pred))\n",
        "\n",
        "  # Find MAE of naive forecast (no seasonality)\n",
        "  mae_naive_no_season = tf.reduce_mean(tf.abs(y_true[1:] - y_true[:-1])) # our seasonality is 1 day (hence the shifting of 1 day)\n",
        "\n",
        "  return mae / mae_naive_no_season\n",
        "\n",
        "  \n",
        "def evaluate_preds(y_true, y_pred):\n",
        "  # Make sure float32 (for metric calculations)\n",
        "  y_true = tf.cast(y_true, dtype=tf.float32)\n",
        "  y_pred = tf.cast(y_pred, dtype=tf.float32)\n",
        "\n",
        "  # Calculate various metrics\n",
        "  mae = tf.keras.metrics.mean_absolute_error(y_true, y_pred)\n",
        "  mse = tf.keras.metrics.mean_squared_error(y_true, y_pred)\n",
        "  rmse = tf.sqrt(mse)\n",
        "  mape = tf.keras.metrics.mean_absolute_percentage_error(y_true, y_pred)\n",
        "  mase = mean_absolute_scaled_error(y_true, y_pred)\n",
        "\n",
        "  # Account for different sized metrics (for longer horizons, reduce to single number)\n",
        "  if mae.ndim > 0: # if mae isn't already a scalar, reduce it to one by aggregating tensors to mean\n",
        "    mae = tf.reduce_mean(mae)\n",
        "    mse = tf.reduce_mean(mse)\n",
        "    rmse = tf.reduce_mean(rmse)\n",
        "    mape = tf.reduce_mean(mape)\n",
        "    mase = tf.reduce_mean(mase)\n",
        "\n",
        "  return {\"mae\": mae.numpy(),\n",
        "          \"mse\": mse.numpy(),\n",
        "          \"rmse\": rmse.numpy(),\n",
        "          \"mape\": mape.numpy(),\n",
        "          \"mase\": mase.numpy()}"
      ],
      "execution_count": 15,
      "outputs": []
    },
    {
      "cell_type": "code",
      "metadata": {
        "colab": {
          "base_uri": "https://localhost:8080/"
        },
        "id": "nZ79JqQm86mI",
        "outputId": "cf91a834-6392-4462-84c9-f35be252591b"
      },
      "source": [
        "#Evaluating Naive Results\n",
        "naive_results = evaluate_preds(y_true=y_test[1:],\n",
        "                               y_pred=naive_forecast)\n",
        "naive_results"
      ],
      "execution_count": 16,
      "outputs": [
        {
          "output_type": "execute_result",
          "data": {
            "text/plain": [
              "{'mae': 937.98645,\n",
              " 'mape': 2.615954,\n",
              " 'mase': 0.99805504,\n",
              " 'mse': 2081908.9,\n",
              " 'rmse': 1442.8822}"
            ]
          },
          "metadata": {},
          "execution_count": 16
        }
      ]
    },
    {
      "cell_type": "markdown",
      "metadata": {
        "id": "jhm3NYjJ-FhY"
      },
      "source": [
        "Windowing Dataset\n"
      ]
    },
    {
      "cell_type": "markdown",
      "metadata": {
        "id": "OFfT6asB-7RB"
      },
      "source": [
        "Labelling Windows"
      ]
    },
    {
      "cell_type": "code",
      "metadata": {
        "id": "Wa2e2y5X-bGS"
      },
      "source": [
        "# Create function to label windowed data\n",
        "def get_labelled_windows(x, horizon=1):\n",
        "  \"\"\"\n",
        "  Creates labels for windowed dataset.\n",
        "\n",
        "  E.g. if horizon=1 (default)\n",
        "  Input: [1, 2, 3, 4, 5, 6] -> Output: ([1, 2, 3, 4, 5], [6])\n",
        "  \"\"\"\n",
        "  return x[:, :-horizon], x[:, -horizon:]"
      ],
      "execution_count": 17,
      "outputs": []
    },
    {
      "cell_type": "markdown",
      "metadata": {
        "id": "nbSPyLJD-9-o"
      },
      "source": [
        "Making Windows"
      ]
    },
    {
      "cell_type": "code",
      "metadata": {
        "id": "1e-LY-EC-mCG"
      },
      "source": [
        "# Create function to view NumPy arrays as windows \n",
        "def make_windows(x, window_size=7, horizon=1):\n",
        "  \"\"\"\n",
        "  Turns a 1D array into a 2D array of sequential windows of window_size.\n",
        "  \"\"\"\n",
        "  # 1. Create a window of specific window_size (add the horizon on the end for later labelling)\n",
        "  window_step = np.expand_dims(np.arange(window_size+horizon), axis=0)\n",
        "  # print(f\"Window step:\\n {window_step}\")\n",
        "\n",
        "  # 2. Create a 2D array of multiple window steps (minus 1 to account for 0 indexing)\n",
        "  window_indexes = window_step + np.expand_dims(np.arange(len(x)-(window_size+horizon-1)), axis=0).T # create 2D array of windows of size window_size\n",
        "  # print(f\"Window indexes:\\n {window_indexes[:3], window_indexes[-3:], window_indexes.shape}\")\n",
        "\n",
        "  # 3. Index on the target array (time series) with 2D array of multiple window steps\n",
        "  windowed_array = x[window_indexes]\n",
        "\n",
        "  # 4. Get the labelled windows\n",
        "  windows, labels = get_labelled_windows(windowed_array, horizon=horizon)\n",
        "\n",
        "  return windows, labels"
      ],
      "execution_count": 18,
      "outputs": []
    },
    {
      "cell_type": "code",
      "metadata": {
        "id": "BsESAEYv9E3m"
      },
      "source": [
        "HORIZON = 1 # predict 1 step at a time\n",
        "WINDOW_SIZE = 7 # use a week worth of timesteps to predict the horizon"
      ],
      "execution_count": 19,
      "outputs": []
    },
    {
      "cell_type": "code",
      "metadata": {
        "colab": {
          "base_uri": "https://localhost:8080/"
        },
        "id": "UbYb4cpc-nrB",
        "outputId": "f1b566e8-1048-4656-d97a-b4739806ba64"
      },
      "source": [
        "full_windows, full_labels = make_windows(prices, window_size=WINDOW_SIZE, horizon=HORIZON)\n",
        "len(full_windows), len(full_labels)"
      ],
      "execution_count": 20,
      "outputs": [
        {
          "output_type": "execute_result",
          "data": {
            "text/plain": [
              "(2550, 2550)"
            ]
          },
          "metadata": {},
          "execution_count": 20
        }
      ]
    },
    {
      "cell_type": "markdown",
      "metadata": {
        "id": "u0ItlYzB-3hA"
      },
      "source": [
        "Test Train Split of Windowed Data"
      ]
    },
    {
      "cell_type": "code",
      "metadata": {
        "id": "6PBMmhsZ-xDg"
      },
      "source": [
        "# Make the train/test splits\n",
        "def make_train_test_splits(windows, labels, test_split=0.2):\n",
        "  \"\"\"\n",
        "  Splits matching pairs of windows and labels into train and test splits.\n",
        "  \"\"\"\n",
        "  split_size = int(len(windows) * (1-test_split)) # this will default to 80% train/20% test\n",
        "  train_windows = windows[:split_size]\n",
        "  train_labels = labels[:split_size]\n",
        "  test_windows = windows[split_size:]\n",
        "  test_labels = labels[split_size:]\n",
        "  return train_windows, test_windows, train_labels, test_labels"
      ],
      "execution_count": 21,
      "outputs": []
    },
    {
      "cell_type": "code",
      "metadata": {
        "colab": {
          "base_uri": "https://localhost:8080/"
        },
        "id": "FkMYry-j-2dC",
        "outputId": "81876935-bb6b-441d-b570-2d16b72a8b7b"
      },
      "source": [
        "train_windows, test_windows, train_labels, test_labels = make_train_test_splits(full_windows, full_labels)\n",
        "len(train_windows), len(test_windows), len(train_labels), len(test_labels)"
      ],
      "execution_count": 22,
      "outputs": [
        {
          "output_type": "execute_result",
          "data": {
            "text/plain": [
              "(2040, 510, 2040, 510)"
            ]
          },
          "metadata": {},
          "execution_count": 22
        }
      ]
    },
    {
      "cell_type": "markdown",
      "metadata": {
        "id": "ZsKWlmbC_HOQ"
      },
      "source": [
        "Save best Model Checkpoint"
      ]
    },
    {
      "cell_type": "code",
      "metadata": {
        "id": "35A3RIFw-2zh"
      },
      "source": [
        "import os\n",
        "\n",
        "# Create a function to implement a ModelCheckpoint callback with a specific filename \n",
        "def create_model_checkpoint(model_name, save_path=\"model_experiments\"):\n",
        "  return tf.keras.callbacks.ModelCheckpoint(filepath=os.path.join(save_path, model_name), # create filepath to save model\n",
        "                                            verbose=0, # only output a limited amount of text\n",
        "                                            save_best_only=True) # save only the best model to file"
      ],
      "execution_count": 23,
      "outputs": []
    },
    {
      "cell_type": "markdown",
      "metadata": {
        "id": "Wpw89Sxt_OCI"
      },
      "source": [
        "Model 1: Dense model (window = 7, horizon = 1)"
      ]
    },
    {
      "cell_type": "code",
      "metadata": {
        "colab": {
          "base_uri": "https://localhost:8080/"
        },
        "id": "xVjiUcRj_K5e",
        "outputId": "d8961313-a402-491d-ae2d-ed5f63ea7ee8"
      },
      "source": [
        "import tensorflow as tf\n",
        "from tensorflow.keras import layers\n",
        "\n",
        "HORIZON = 1 # predict 1 step at a time\n",
        "WINDOW_SIZE = 7 # use a week worth of timesteps to predict the horizon\n",
        "\n",
        "\n",
        "# Set random seed for as reproducible results as possible\n",
        "tf.random.set_seed(42)\n",
        "\n",
        "# Construct model\n",
        "model_1 = tf.keras.Sequential([\n",
        "  layers.Dense(128, activation=\"relu\"),\n",
        "  layers.Dense(HORIZON, activation=\"linear\") # linear activation is the same as having no activation                        \n",
        "], name=\"model_1_dense\") # give the model a name so we can save it\n",
        "\n",
        "# Compile model\n",
        "model_1.compile(loss=\"mae\",\n",
        "                optimizer=tf.keras.optimizers.Adam(),\n",
        "                metrics=[\"mae\"]) # we don't necessarily need this when the loss function is already MAE\n",
        "\n",
        "# Fit model\n",
        "model_1.fit(x=train_windows, # train windows of 7 timesteps of Bitcoin prices\n",
        "            y=train_labels, # horizon value of 1 (using the previous 7 timesteps to predict next day)\n",
        "            epochs=100,\n",
        "            verbose=1,\n",
        "            batch_size=128,\n",
        "            validation_data=(test_windows, test_labels),\n",
        "            callbacks=[create_model_checkpoint(model_name=model_1.name)]) # create ModelCheckpoint callback to save best model"
      ],
      "execution_count": 24,
      "outputs": [
        {
          "output_type": "stream",
          "name": "stdout",
          "text": [
            "Epoch 1/100\n",
            " 1/16 [>.............................] - ETA: 9s - loss: 2873.0610 - mae: 2873.0610INFO:tensorflow:Assets written to: model_experiments/model_1_dense/assets\n",
            "16/16 [==============================] - 1s 57ms/step - loss: 1056.7852 - mae: 1056.7852 - val_loss: 4003.5945 - val_mae: 4003.5945\n",
            "Epoch 2/100\n",
            " 1/16 [>.............................] - ETA: 0s - loss: 509.8696 - mae: 509.8696INFO:tensorflow:Assets written to: model_experiments/model_1_dense/assets\n",
            "16/16 [==============================] - 1s 37ms/step - loss: 351.3074 - mae: 351.3074 - val_loss: 2322.8799 - val_mae: 2322.8799\n",
            "Epoch 3/100\n",
            " 1/16 [>.............................] - ETA: 0s - loss: 297.6631 - mae: 297.6631INFO:tensorflow:Assets written to: model_experiments/model_1_dense/assets\n",
            "16/16 [==============================] - 1s 35ms/step - loss: 252.4568 - mae: 252.4568 - val_loss: 1831.6731 - val_mae: 1831.6731\n",
            "Epoch 4/100\n",
            " 1/16 [>.............................] - ETA: 0s - loss: 226.8199 - mae: 226.8199INFO:tensorflow:Assets written to: model_experiments/model_1_dense/assets\n",
            "16/16 [==============================] - 1s 35ms/step - loss: 228.6703 - mae: 228.6703 - val_loss: 1668.1279 - val_mae: 1668.1279\n",
            "Epoch 5/100\n",
            " 1/16 [>.............................] - ETA: 0s - loss: 243.3415 - mae: 243.3415INFO:tensorflow:Assets written to: model_experiments/model_1_dense/assets\n",
            "16/16 [==============================] - 1s 35ms/step - loss: 221.1399 - mae: 221.1399 - val_loss: 1613.3164 - val_mae: 1613.3164\n",
            "Epoch 6/100\n",
            " 1/16 [>.............................] - ETA: 0s - loss: 191.6163 - mae: 191.6163INFO:tensorflow:Assets written to: model_experiments/model_1_dense/assets\n",
            "16/16 [==============================] - 1s 36ms/step - loss: 216.5859 - mae: 216.5859 - val_loss: 1538.1433 - val_mae: 1538.1433\n",
            "Epoch 7/100\n",
            " 1/16 [>.............................] - ETA: 0s - loss: 221.4547 - mae: 221.4547INFO:tensorflow:Assets written to: model_experiments/model_1_dense/assets\n",
            "16/16 [==============================] - 1s 37ms/step - loss: 214.2413 - mae: 214.2413 - val_loss: 1516.9137 - val_mae: 1516.9137\n",
            "Epoch 8/100\n",
            " 1/16 [>.............................] - ETA: 0s - loss: 205.3334 - mae: 205.3334INFO:tensorflow:Assets written to: model_experiments/model_1_dense/assets\n",
            "16/16 [==============================] - 1s 36ms/step - loss: 210.6656 - mae: 210.6656 - val_loss: 1491.8510 - val_mae: 1491.8510\n",
            "Epoch 9/100\n",
            " 1/16 [>.............................] - ETA: 0s - loss: 164.8692 - mae: 164.8692INFO:tensorflow:Assets written to: model_experiments/model_1_dense/assets\n",
            "16/16 [==============================] - 1s 35ms/step - loss: 203.0777 - mae: 203.0777 - val_loss: 1423.2406 - val_mae: 1423.2406\n",
            "Epoch 10/100\n",
            " 1/16 [>.............................] - ETA: 0s - loss: 197.7609 - mae: 197.7609INFO:tensorflow:Assets written to: model_experiments/model_1_dense/assets\n",
            "16/16 [==============================] - 1s 36ms/step - loss: 193.6106 - mae: 193.6106 - val_loss: 1385.7057 - val_mae: 1385.7057\n",
            "Epoch 11/100\n",
            " 1/16 [>.............................] - ETA: 0s - loss: 160.9195 - mae: 160.9195INFO:tensorflow:Assets written to: model_experiments/model_1_dense/assets\n",
            "16/16 [==============================] - 1s 36ms/step - loss: 189.2127 - mae: 189.2127 - val_loss: 1372.1622 - val_mae: 1372.1622\n",
            "Epoch 12/100\n",
            " 1/16 [>.............................] - ETA: 0s - loss: 180.6959 - mae: 180.6959INFO:tensorflow:Assets written to: model_experiments/model_1_dense/assets\n",
            "16/16 [==============================] - 1s 39ms/step - loss: 183.0179 - mae: 183.0179 - val_loss: 1326.2784 - val_mae: 1326.2784\n",
            "Epoch 13/100\n",
            " 1/16 [>.............................] - ETA: 0s - loss: 154.7299 - mae: 154.7299INFO:tensorflow:Assets written to: model_experiments/model_1_dense/assets\n",
            "16/16 [==============================] - 1s 36ms/step - loss: 178.1000 - mae: 178.1000 - val_loss: 1268.6537 - val_mae: 1268.6537\n",
            "Epoch 14/100\n",
            " 1/16 [>.............................] - ETA: 0s - loss: 181.1466 - mae: 181.1466INFO:tensorflow:Assets written to: model_experiments/model_1_dense/assets\n",
            "16/16 [==============================] - 1s 34ms/step - loss: 174.5007 - mae: 174.5007 - val_loss: 1255.5726 - val_mae: 1255.5726\n",
            "Epoch 15/100\n",
            " 1/16 [>.............................] - ETA: 0s - loss: 170.6550 - mae: 170.6550INFO:tensorflow:Assets written to: model_experiments/model_1_dense/assets\n",
            "16/16 [==============================] - 1s 35ms/step - loss: 171.3362 - mae: 171.3362 - val_loss: 1237.9785 - val_mae: 1237.9785\n",
            "Epoch 16/100\n",
            " 1/16 [>.............................] - ETA: 0s - loss: 143.1952 - mae: 143.1952INFO:tensorflow:Assets written to: model_experiments/model_1_dense/assets\n",
            "16/16 [==============================] - 1s 36ms/step - loss: 172.2859 - mae: 172.2859 - val_loss: 1230.1339 - val_mae: 1230.1339\n",
            "Epoch 17/100\n",
            " 1/16 [>.............................] - ETA: 0s - loss: 141.6099 - mae: 141.6099INFO:tensorflow:Assets written to: model_experiments/model_1_dense/assets\n",
            "16/16 [==============================] - 1s 36ms/step - loss: 174.7972 - mae: 174.7972 - val_loss: 1203.1726 - val_mae: 1203.1726\n",
            "Epoch 18/100\n",
            " 1/16 [>.............................] - ETA: 0s - loss: 167.7152 - mae: 167.7152INFO:tensorflow:Assets written to: model_experiments/model_1_dense/assets\n",
            "16/16 [==============================] - 1s 55ms/step - loss: 164.3004 - mae: 164.3004 - val_loss: 1200.0491 - val_mae: 1200.0491\n",
            "Epoch 19/100\n",
            " 1/16 [>.............................] - ETA: 0s - loss: 201.2568 - mae: 201.2568INFO:tensorflow:Assets written to: model_experiments/model_1_dense/assets\n",
            "16/16 [==============================] - 1s 34ms/step - loss: 159.6342 - mae: 159.6342 - val_loss: 1139.1741 - val_mae: 1139.1741\n",
            "Epoch 20/100\n",
            " 1/16 [>.............................] - ETA: 0s - loss: 228.5676 - mae: 228.5676INFO:tensorflow:Assets written to: model_experiments/model_1_dense/assets\n",
            "16/16 [==============================] - 1s 36ms/step - loss: 159.3905 - mae: 159.3905 - val_loss: 1124.3491 - val_mae: 1124.3491\n",
            "Epoch 21/100\n",
            "16/16 [==============================] - 0s 5ms/step - loss: 157.8529 - mae: 157.8529 - val_loss: 1190.2979 - val_mae: 1190.2979\n",
            "Epoch 22/100\n",
            "16/16 [==============================] - 0s 3ms/step - loss: 155.2942 - mae: 155.2942 - val_loss: 1179.1235 - val_mae: 1179.1235\n",
            "Epoch 23/100\n",
            " 1/16 [>.............................] - ETA: 0s - loss: 131.8443 - mae: 131.8443INFO:tensorflow:Assets written to: model_experiments/model_1_dense/assets\n",
            "16/16 [==============================] - 1s 37ms/step - loss: 154.8547 - mae: 154.8547 - val_loss: 1098.1631 - val_mae: 1098.1631\n",
            "Epoch 24/100\n",
            "16/16 [==============================] - 0s 4ms/step - loss: 152.5338 - mae: 152.5338 - val_loss: 1138.7020 - val_mae: 1138.7020\n",
            "Epoch 25/100\n",
            " 1/16 [>.............................] - ETA: 0s - loss: 115.5066 - mae: 115.5066INFO:tensorflow:Assets written to: model_experiments/model_1_dense/assets\n",
            "16/16 [==============================] - 1s 35ms/step - loss: 157.8834 - mae: 157.8834 - val_loss: 1091.8256 - val_mae: 1091.8256\n",
            "Epoch 26/100\n",
            "16/16 [==============================] - 0s 4ms/step - loss: 150.3030 - mae: 150.3030 - val_loss: 1180.8828 - val_mae: 1180.8828\n",
            "Epoch 27/100\n",
            " 1/16 [>.............................] - ETA: 0s - loss: 169.3633 - mae: 169.3633INFO:tensorflow:Assets written to: model_experiments/model_1_dense/assets\n",
            "16/16 [==============================] - 1s 36ms/step - loss: 148.1894 - mae: 148.1894 - val_loss: 1086.2057 - val_mae: 1086.2057\n",
            "Epoch 28/100\n",
            "16/16 [==============================] - 0s 4ms/step - loss: 150.2707 - mae: 150.2707 - val_loss: 1233.6293 - val_mae: 1233.6293\n",
            "Epoch 29/100\n",
            " 1/16 [>.............................] - ETA: 0s - loss: 172.0469 - mae: 172.0469INFO:tensorflow:Assets written to: model_experiments/model_1_dense/assets\n",
            "16/16 [==============================] - 1s 36ms/step - loss: 152.2097 - mae: 152.2097 - val_loss: 1080.7643 - val_mae: 1080.7643\n",
            "Epoch 30/100\n",
            " 1/16 [>.............................] - ETA: 0s - loss: 158.1851 - mae: 158.1851INFO:tensorflow:Assets written to: model_experiments/model_1_dense/assets\n",
            "16/16 [==============================] - 1s 36ms/step - loss: 147.1875 - mae: 147.1875 - val_loss: 1068.3274 - val_mae: 1068.3274\n",
            "Epoch 31/100\n",
            " 1/16 [>.............................] - ETA: 0s - loss: 114.3426 - mae: 114.3426INFO:tensorflow:Assets written to: model_experiments/model_1_dense/assets\n",
            "16/16 [==============================] - 1s 36ms/step - loss: 146.1406 - mae: 146.1406 - val_loss: 1042.5544 - val_mae: 1042.5544\n",
            "Epoch 32/100\n",
            " 1/16 [>.............................] - ETA: 0s - loss: 178.3112 - mae: 178.3112INFO:tensorflow:Assets written to: model_experiments/model_1_dense/assets\n",
            "16/16 [==============================] - 1s 37ms/step - loss: 151.3052 - mae: 151.3052 - val_loss: 1032.4224 - val_mae: 1032.4224\n",
            "Epoch 33/100\n",
            " 1/16 [>.............................] - ETA: 0s - loss: 155.6607 - mae: 155.6607INFO:tensorflow:Assets written to: model_experiments/model_1_dense/assets\n",
            "16/16 [==============================] - 1s 37ms/step - loss: 149.2343 - mae: 149.2343 - val_loss: 1024.5099 - val_mae: 1024.5099\n",
            "Epoch 34/100\n",
            "16/16 [==============================] - 0s 3ms/step - loss: 143.6137 - mae: 143.6137 - val_loss: 1038.4551 - val_mae: 1038.4551\n",
            "Epoch 35/100\n",
            "16/16 [==============================] - 0s 3ms/step - loss: 143.7713 - mae: 143.7713 - val_loss: 1040.8689 - val_mae: 1040.8689\n",
            "Epoch 36/100\n",
            " 1/16 [>.............................] - ETA: 0s - loss: 147.7774 - mae: 147.7774INFO:tensorflow:Assets written to: model_experiments/model_1_dense/assets\n",
            "16/16 [==============================] - 1s 36ms/step - loss: 151.1989 - mae: 151.1989 - val_loss: 1019.7939 - val_mae: 1019.7939\n",
            "Epoch 37/100\n",
            " 1/16 [>.............................] - ETA: 0s - loss: 152.1389 - mae: 152.1389INFO:tensorflow:Assets written to: model_experiments/model_1_dense/assets\n",
            "16/16 [==============================] - 1s 37ms/step - loss: 150.0678 - mae: 150.0678 - val_loss: 1007.9547 - val_mae: 1007.9547\n",
            "Epoch 38/100\n",
            "16/16 [==============================] - 0s 5ms/step - loss: 143.5116 - mae: 143.5116 - val_loss: 1021.6899 - val_mae: 1021.6899\n",
            "Epoch 39/100\n",
            "16/16 [==============================] - 0s 3ms/step - loss: 149.6112 - mae: 149.6112 - val_loss: 1111.7449 - val_mae: 1111.7449\n",
            "Epoch 40/100\n",
            "16/16 [==============================] - 0s 4ms/step - loss: 146.1741 - mae: 146.1741 - val_loss: 1028.9512 - val_mae: 1028.9512\n",
            "Epoch 41/100\n",
            "16/16 [==============================] - 0s 3ms/step - loss: 141.4804 - mae: 141.4804 - val_loss: 1033.8064 - val_mae: 1033.8064\n",
            "Epoch 42/100\n",
            "16/16 [==============================] - 0s 4ms/step - loss: 147.7761 - mae: 147.7761 - val_loss: 1057.5258 - val_mae: 1057.5258\n",
            "Epoch 43/100\n",
            "16/16 [==============================] - 0s 4ms/step - loss: 149.8958 - mae: 149.8958 - val_loss: 1046.5239 - val_mae: 1046.5239\n",
            "Epoch 44/100\n",
            " 1/16 [>.............................] - ETA: 0s - loss: 137.6080 - mae: 137.6080INFO:tensorflow:Assets written to: model_experiments/model_1_dense/assets\n",
            "16/16 [==============================] - 1s 35ms/step - loss: 142.4684 - mae: 142.4684 - val_loss: 997.2841 - val_mae: 997.2841\n",
            "Epoch 45/100\n",
            " 1/16 [>.............................] - ETA: 0s - loss: 112.1328 - mae: 112.1328INFO:tensorflow:Assets written to: model_experiments/model_1_dense/assets\n",
            "16/16 [==============================] - 1s 39ms/step - loss: 139.4041 - mae: 139.4041 - val_loss: 990.5488 - val_mae: 990.5488\n",
            "Epoch 46/100\n",
            "16/16 [==============================] - 0s 5ms/step - loss: 148.9001 - mae: 148.9001 - val_loss: 992.7686 - val_mae: 992.7686\n",
            "Epoch 47/100\n",
            "16/16 [==============================] - 0s 4ms/step - loss: 143.2145 - mae: 143.2145 - val_loss: 1052.8665 - val_mae: 1052.8665\n",
            "Epoch 48/100\n",
            "16/16 [==============================] - 0s 3ms/step - loss: 151.9574 - mae: 151.9574 - val_loss: 1053.2749 - val_mae: 1053.2749\n",
            "Epoch 49/100\n",
            " 1/16 [>.............................] - ETA: 0s - loss: 120.4012 - mae: 120.4012INFO:tensorflow:Assets written to: model_experiments/model_1_dense/assets\n",
            "16/16 [==============================] - 1s 35ms/step - loss: 142.5657 - mae: 142.5657 - val_loss: 981.6417 - val_mae: 981.6417\n",
            "Epoch 50/100\n",
            "16/16 [==============================] - 0s 4ms/step - loss: 144.9990 - mae: 144.9990 - val_loss: 1069.8569 - val_mae: 1069.8569\n",
            "Epoch 51/100\n",
            "16/16 [==============================] - 0s 4ms/step - loss: 141.0598 - mae: 141.0598 - val_loss: 1027.6361 - val_mae: 1027.6361\n",
            "Epoch 52/100\n",
            "16/16 [==============================] - 0s 3ms/step - loss: 138.5775 - mae: 138.5775 - val_loss: 998.9789 - val_mae: 998.9789\n",
            "Epoch 53/100\n",
            "16/16 [==============================] - 0s 3ms/step - loss: 138.6792 - mae: 138.6792 - val_loss: 1002.9655 - val_mae: 1002.9655\n",
            "Epoch 54/100\n",
            " 1/16 [>.............................] - ETA: 0s - loss: 128.6530 - mae: 128.6530INFO:tensorflow:Assets written to: model_experiments/model_1_dense/assets\n",
            "16/16 [==============================] - 1s 48ms/step - loss: 138.9260 - mae: 138.9260 - val_loss: 981.2197 - val_mae: 981.2197\n",
            "Epoch 55/100\n",
            " 1/16 [>.............................] - ETA: 0s - loss: 155.1370 - mae: 155.1370INFO:tensorflow:Assets written to: model_experiments/model_1_dense/assets\n",
            "16/16 [==============================] - 1s 36ms/step - loss: 138.5399 - mae: 138.5399 - val_loss: 974.9329 - val_mae: 974.9329\n",
            "Epoch 56/100\n",
            " 1/16 [>.............................] - ETA: 0s - loss: 176.8302 - mae: 176.8302INFO:tensorflow:Assets written to: model_experiments/model_1_dense/assets\n",
            "16/16 [==============================] - 1s 35ms/step - loss: 138.2755 - mae: 138.2755 - val_loss: 974.1376 - val_mae: 974.1376\n",
            "Epoch 57/100\n",
            "16/16 [==============================] - 0s 5ms/step - loss: 143.0301 - mae: 143.0301 - val_loss: 1039.8153 - val_mae: 1039.8153\n",
            "Epoch 58/100\n",
            "16/16 [==============================] - 0s 4ms/step - loss: 139.7437 - mae: 139.7437 - val_loss: 1013.4064 - val_mae: 1013.4064\n",
            "Epoch 59/100\n",
            " 1/16 [>.............................] - ETA: 0s - loss: 129.9954 - mae: 129.9954INFO:tensorflow:Assets written to: model_experiments/model_1_dense/assets\n",
            "16/16 [==============================] - 1s 36ms/step - loss: 144.5696 - mae: 144.5696 - val_loss: 970.7390 - val_mae: 970.7390\n",
            "Epoch 60/100\n",
            " 1/16 [>.............................] - ETA: 0s - loss: 141.0352 - mae: 141.0352INFO:tensorflow:Assets written to: model_experiments/model_1_dense/assets\n",
            "16/16 [==============================] - 1s 36ms/step - loss: 141.1082 - mae: 141.1082 - val_loss: 969.2397 - val_mae: 969.2397\n",
            "Epoch 61/100\n",
            " 1/16 [>.............................] - ETA: 0s - loss: 97.2267 - mae: 97.2267INFO:tensorflow:Assets written to: model_experiments/model_1_dense/assets\n",
            "16/16 [==============================] - 1s 35ms/step - loss: 142.8495 - mae: 142.8495 - val_loss: 968.5919 - val_mae: 968.5919\n",
            "Epoch 62/100\n",
            "16/16 [==============================] - 0s 3ms/step - loss: 142.0862 - mae: 142.0862 - val_loss: 1053.4203 - val_mae: 1053.4203\n",
            "Epoch 63/100\n",
            "16/16 [==============================] - 0s 3ms/step - loss: 137.8684 - mae: 137.8684 - val_loss: 969.4255 - val_mae: 969.4255\n",
            "Epoch 64/100\n",
            " 1/16 [>.............................] - ETA: 0s - loss: 92.9760 - mae: 92.9760INFO:tensorflow:Assets written to: model_experiments/model_1_dense/assets\n",
            "16/16 [==============================] - 1s 37ms/step - loss: 136.9571 - mae: 136.9571 - val_loss: 967.1493 - val_mae: 967.1493\n",
            "Epoch 65/100\n",
            "16/16 [==============================] - 0s 3ms/step - loss: 138.6820 - mae: 138.6820 - val_loss: 1058.9169 - val_mae: 1058.9169\n",
            "Epoch 66/100\n",
            "16/16 [==============================] - 0s 4ms/step - loss: 135.7752 - mae: 135.7752 - val_loss: 995.9147 - val_mae: 995.9147\n",
            "Epoch 67/100\n",
            "16/16 [==============================] - 0s 3ms/step - loss: 139.3073 - mae: 139.3073 - val_loss: 1081.7245 - val_mae: 1081.7245\n",
            "Epoch 68/100\n",
            "16/16 [==============================] - 0s 3ms/step - loss: 138.5269 - mae: 138.5269 - val_loss: 967.6910 - val_mae: 967.6910\n",
            "Epoch 69/100\n",
            " 1/16 [>.............................] - ETA: 0s - loss: 138.3211 - mae: 138.3211INFO:tensorflow:Assets written to: model_experiments/model_1_dense/assets\n",
            "16/16 [==============================] - 1s 37ms/step - loss: 135.6186 - mae: 135.6186 - val_loss: 962.2388 - val_mae: 962.2388\n",
            "Epoch 70/100\n",
            "16/16 [==============================] - 0s 4ms/step - loss: 136.5710 - mae: 136.5710 - val_loss: 978.6899 - val_mae: 978.6899\n",
            "Epoch 71/100\n",
            "16/16 [==============================] - 0s 4ms/step - loss: 141.5875 - mae: 141.5875 - val_loss: 1062.3672 - val_mae: 1062.3672\n",
            "Epoch 72/100\n",
            "16/16 [==============================] - 0s 5ms/step - loss: 140.0168 - mae: 140.0168 - val_loss: 1053.6779 - val_mae: 1053.6779\n",
            "Epoch 73/100\n",
            "16/16 [==============================] - 0s 3ms/step - loss: 149.4178 - mae: 149.4178 - val_loss: 1068.1050 - val_mae: 1068.1050\n",
            "Epoch 74/100\n",
            "16/16 [==============================] - 0s 4ms/step - loss: 144.0133 - mae: 144.0133 - val_loss: 970.0277 - val_mae: 970.0277\n",
            "Epoch 75/100\n",
            "16/16 [==============================] - 0s 4ms/step - loss: 136.2006 - mae: 136.2006 - val_loss: 1097.1251 - val_mae: 1097.1251\n",
            "Epoch 76/100\n",
            "16/16 [==============================] - 0s 5ms/step - loss: 140.0902 - mae: 140.0902 - val_loss: 972.1509 - val_mae: 972.1509\n",
            "Epoch 77/100\n",
            "16/16 [==============================] - 0s 3ms/step - loss: 135.7752 - mae: 135.7752 - val_loss: 971.8822 - val_mae: 971.8822\n",
            "Epoch 78/100\n",
            " 1/16 [>.............................] - ETA: 0s - loss: 133.9805 - mae: 133.9805INFO:tensorflow:Assets written to: model_experiments/model_1_dense/assets\n",
            "16/16 [==============================] - 1s 34ms/step - loss: 135.7160 - mae: 135.7160 - val_loss: 961.0849 - val_mae: 961.0849\n",
            "Epoch 79/100\n",
            " 1/16 [>.............................] - ETA: 0s - loss: 122.4950 - mae: 122.4950INFO:tensorflow:Assets written to: model_experiments/model_1_dense/assets\n",
            "16/16 [==============================] - 1s 36ms/step - loss: 135.3004 - mae: 135.3004 - val_loss: 960.5219 - val_mae: 960.5219\n",
            "Epoch 80/100\n",
            "16/16 [==============================] - 0s 3ms/step - loss: 136.9555 - mae: 136.9555 - val_loss: 963.4038 - val_mae: 963.4038\n",
            "Epoch 81/100\n",
            " 1/16 [>.............................] - ETA: 0s - loss: 113.2351 - mae: 113.2351INFO:tensorflow:Assets written to: model_experiments/model_1_dense/assets\n",
            "16/16 [==============================] - 1s 33ms/step - loss: 135.8909 - mae: 135.8909 - val_loss: 956.3384 - val_mae: 956.3384\n",
            "Epoch 82/100\n",
            "16/16 [==============================] - 0s 4ms/step - loss: 134.9557 - mae: 134.9557 - val_loss: 992.1794 - val_mae: 992.1794\n",
            "Epoch 83/100\n",
            "16/16 [==============================] - 0s 5ms/step - loss: 134.8101 - mae: 134.8101 - val_loss: 1067.1194 - val_mae: 1067.1194\n",
            "Epoch 84/100\n",
            " 1/16 [>.............................] - ETA: 0s - loss: 120.7731 - mae: 120.7731INFO:tensorflow:Assets written to: model_experiments/model_1_dense/assets\n",
            "16/16 [==============================] - 1s 37ms/step - loss: 136.8955 - mae: 136.8955 - val_loss: 955.6572 - val_mae: 955.6572\n",
            "Epoch 85/100\n",
            "16/16 [==============================] - 0s 3ms/step - loss: 141.5579 - mae: 141.5579 - val_loss: 1211.3534 - val_mae: 1211.3534\n",
            "Epoch 86/100\n",
            "16/16 [==============================] - 0s 4ms/step - loss: 149.5387 - mae: 149.5387 - val_loss: 993.4534 - val_mae: 993.4534\n",
            "Epoch 87/100\n",
            "16/16 [==============================] - 0s 4ms/step - loss: 138.3581 - mae: 138.3581 - val_loss: 976.9874 - val_mae: 976.9874\n",
            "Epoch 88/100\n",
            "16/16 [==============================] - 0s 4ms/step - loss: 135.8537 - mae: 135.8537 - val_loss: 982.7091 - val_mae: 982.7091\n",
            "Epoch 89/100\n",
            "16/16 [==============================] - 0s 5ms/step - loss: 141.0004 - mae: 141.0004 - val_loss: 959.5522 - val_mae: 959.5522\n",
            "Epoch 90/100\n",
            "16/16 [==============================] - 0s 3ms/step - loss: 133.6840 - mae: 133.6840 - val_loss: 971.0145 - val_mae: 971.0145\n",
            "Epoch 91/100\n",
            "16/16 [==============================] - 0s 3ms/step - loss: 134.5002 - mae: 134.5002 - val_loss: 974.4664 - val_mae: 974.4664\n",
            "Epoch 92/100\n",
            " 1/16 [>.............................] - ETA: 0s - loss: 205.6633 - mae: 205.6633INFO:tensorflow:Assets written to: model_experiments/model_1_dense/assets\n",
            "16/16 [==============================] - 1s 36ms/step - loss: 136.9110 - mae: 136.9110 - val_loss: 952.3503 - val_mae: 952.3503\n",
            "Epoch 93/100\n",
            "16/16 [==============================] - 0s 3ms/step - loss: 136.3476 - mae: 136.3476 - val_loss: 984.0912 - val_mae: 984.0912\n",
            "Epoch 94/100\n",
            "16/16 [==============================] - 0s 5ms/step - loss: 135.4956 - mae: 135.4956 - val_loss: 957.7130 - val_mae: 957.7130\n",
            "Epoch 95/100\n",
            "16/16 [==============================] - 0s 4ms/step - loss: 137.5829 - mae: 137.5829 - val_loss: 956.1044 - val_mae: 956.1044\n",
            "Epoch 96/100\n",
            "16/16 [==============================] - 0s 4ms/step - loss: 136.1531 - mae: 136.1531 - val_loss: 1123.0587 - val_mae: 1123.0587\n",
            "Epoch 97/100\n",
            "16/16 [==============================] - 0s 4ms/step - loss: 146.0259 - mae: 146.0259 - val_loss: 1026.7341 - val_mae: 1026.7341\n",
            "Epoch 98/100\n",
            " 1/16 [>.............................] - ETA: 0s - loss: 93.1566 - mae: 93.1566INFO:tensorflow:Assets written to: model_experiments/model_1_dense/assets\n",
            "16/16 [==============================] - 1s 36ms/step - loss: 136.3327 - mae: 136.3327 - val_loss: 950.3221 - val_mae: 950.3221\n",
            "Epoch 99/100\n",
            "16/16 [==============================] - 0s 3ms/step - loss: 136.3655 - mae: 136.3655 - val_loss: 980.1852 - val_mae: 980.1852\n",
            "Epoch 100/100\n",
            "16/16 [==============================] - 0s 4ms/step - loss: 133.4301 - mae: 133.4301 - val_loss: 985.8029 - val_mae: 985.8029\n"
          ]
        },
        {
          "output_type": "execute_result",
          "data": {
            "text/plain": [
              "<keras.callbacks.History at 0x7f6beb1b4a10>"
            ]
          },
          "metadata": {},
          "execution_count": 24
        }
      ]
    },
    {
      "cell_type": "code",
      "metadata": {
        "colab": {
          "base_uri": "https://localhost:8080/"
        },
        "id": "cKcXs3wr_cTt",
        "outputId": "764ba96c-cd34-4841-bd83-ebdd76ab3047"
      },
      "source": [
        "# Load in saved best performing model_1 and evaluate on test data\n",
        "model_1 = tf.keras.models.load_model(\"model_experiments/model_1_dense\")\n",
        "model_1.evaluate(test_windows, test_labels)"
      ],
      "execution_count": 25,
      "outputs": [
        {
          "output_type": "stream",
          "name": "stdout",
          "text": [
            "16/16 [==============================] - 0s 2ms/step - loss: 950.3221 - mae: 950.3221\n"
          ]
        },
        {
          "output_type": "execute_result",
          "data": {
            "text/plain": [
              "[950.3220825195312, 950.3220825195312]"
            ]
          },
          "metadata": {},
          "execution_count": 25
        }
      ]
    },
    {
      "cell_type": "markdown",
      "metadata": {
        "id": "OoGbq1MHA3gT"
      },
      "source": [
        "Make Predictions Functions"
      ]
    },
    {
      "cell_type": "code",
      "metadata": {
        "id": "TAFTJiPtAytj"
      },
      "source": [
        "def make_preds(model, input_data):\n",
        "  \"\"\"\n",
        "  Uses model to make predictions on input_data.\n",
        "\n",
        "  Parameters\n",
        "  ----------\n",
        "  model: trained model \n",
        "  input_data: windowed input data (same kind of data model was trained on)\n",
        "\n",
        "  Returns model predictions on input_data.\n",
        "  \"\"\"\n",
        "  forecast = model.predict(input_data)\n",
        "  return tf.squeeze(forecast) # return 1D array of predictions"
      ],
      "execution_count": 26,
      "outputs": []
    },
    {
      "cell_type": "code",
      "metadata": {
        "id": "2PBzeUEEBBUB"
      },
      "source": [
        "# Make predictions using model_1 on the test dataset and view the results\n",
        "model_1_preds = make_preds(model_1, test_windows)"
      ],
      "execution_count": 27,
      "outputs": []
    },
    {
      "cell_type": "code",
      "metadata": {
        "colab": {
          "base_uri": "https://localhost:8080/"
        },
        "id": "SkEtny0wBB-M",
        "outputId": "e17bf70a-df54-4369-c31a-f5bec8de1ca4"
      },
      "source": [
        "# Evaluate preds\n",
        "model_1_results = evaluate_preds(y_true=tf.squeeze(test_labels), # reduce to right shape\n",
        "                                 y_pred=model_1_preds)\n",
        "model_1_results"
      ],
      "execution_count": 28,
      "outputs": [
        {
          "output_type": "execute_result",
          "data": {
            "text/plain": [
              "{'mae': 950.3222,\n",
              " 'mape': 2.6453176,\n",
              " 'mase': 1.0093851,\n",
              " 'mse': 2148671.5,\n",
              " 'rmse': 1465.8347}"
            ]
          },
          "metadata": {},
          "execution_count": 28
        }
      ]
    },
    {
      "cell_type": "markdown",
      "metadata": {
        "id": "lZFWUDcrB0-v"
      },
      "source": [
        "Model 2: Dense (window = 30, horizon = 1)"
      ]
    },
    {
      "cell_type": "code",
      "metadata": {
        "id": "G8UU9A9UB4EL"
      },
      "source": [
        "HORIZON = 1 # predict one step at a time\n",
        "WINDOW_SIZE = 30 # use 30 timesteps in the past"
      ],
      "execution_count": 29,
      "outputs": []
    },
    {
      "cell_type": "code",
      "metadata": {
        "colab": {
          "base_uri": "https://localhost:8080/"
        },
        "id": "Iv0zwb30B5w9",
        "outputId": "46f757f1-998b-4eaa-cfdb-9189d05c65bb"
      },
      "source": [
        "# Make windowed data with appropriate horizon and window sizes\n",
        "full_windows, full_labels = make_windows(prices, window_size=WINDOW_SIZE, horizon=HORIZON)\n",
        "len(full_windows), len(full_labels)"
      ],
      "execution_count": 30,
      "outputs": [
        {
          "output_type": "execute_result",
          "data": {
            "text/plain": [
              "(2527, 2527)"
            ]
          },
          "metadata": {},
          "execution_count": 30
        }
      ]
    },
    {
      "cell_type": "code",
      "metadata": {
        "colab": {
          "base_uri": "https://localhost:8080/"
        },
        "id": "Ru6KUAFgB7aj",
        "outputId": "c2e6bb61-7524-4f7b-c821-908fea5c42d3"
      },
      "source": [
        "# Make train and testing windows\n",
        "train_windows, test_windows, train_labels, test_labels = make_train_test_splits(windows=full_windows, labels=full_labels)\n",
        "len(train_windows), len(test_windows), len(train_labels), len(test_labels)"
      ],
      "execution_count": 31,
      "outputs": [
        {
          "output_type": "execute_result",
          "data": {
            "text/plain": [
              "(2021, 506, 2021, 506)"
            ]
          },
          "metadata": {},
          "execution_count": 31
        }
      ]
    },
    {
      "cell_type": "code",
      "metadata": {
        "colab": {
          "base_uri": "https://localhost:8080/"
        },
        "id": "_FUMWIEAB95R",
        "outputId": "a614c3dc-b6e1-414a-8a9d-121ab78fa9e9"
      },
      "source": [
        "tf.random.set_seed(42)\n",
        "\n",
        "# Create model (same model as model 1 but data input will be different)\n",
        "model_2 = tf.keras.Sequential([\n",
        "  layers.Dense(128, activation=\"relu\"),\n",
        "  layers.Dense(HORIZON) # need to predict horizon number of steps into the future\n",
        "], name=\"model_2_dense\")\n",
        "\n",
        "model_2.compile(loss=\"mae\",\n",
        "                optimizer=tf.keras.optimizers.Adam())\n",
        "\n",
        "model_2.fit(train_windows,\n",
        "            train_labels,\n",
        "            epochs=100,\n",
        "            batch_size=128,\n",
        "            verbose=0,\n",
        "            validation_data=(test_windows, test_labels),\n",
        "            callbacks=[create_model_checkpoint(model_name=model_2.name)])"
      ],
      "execution_count": 32,
      "outputs": [
        {
          "output_type": "stream",
          "name": "stdout",
          "text": [
            "INFO:tensorflow:Assets written to: model_experiments/model_2_dense/assets\n",
            "INFO:tensorflow:Assets written to: model_experiments/model_2_dense/assets\n",
            "INFO:tensorflow:Assets written to: model_experiments/model_2_dense/assets\n",
            "INFO:tensorflow:Assets written to: model_experiments/model_2_dense/assets\n",
            "INFO:tensorflow:Assets written to: model_experiments/model_2_dense/assets\n",
            "INFO:tensorflow:Assets written to: model_experiments/model_2_dense/assets\n",
            "INFO:tensorflow:Assets written to: model_experiments/model_2_dense/assets\n",
            "INFO:tensorflow:Assets written to: model_experiments/model_2_dense/assets\n",
            "INFO:tensorflow:Assets written to: model_experiments/model_2_dense/assets\n",
            "INFO:tensorflow:Assets written to: model_experiments/model_2_dense/assets\n",
            "INFO:tensorflow:Assets written to: model_experiments/model_2_dense/assets\n",
            "INFO:tensorflow:Assets written to: model_experiments/model_2_dense/assets\n",
            "INFO:tensorflow:Assets written to: model_experiments/model_2_dense/assets\n",
            "INFO:tensorflow:Assets written to: model_experiments/model_2_dense/assets\n",
            "INFO:tensorflow:Assets written to: model_experiments/model_2_dense/assets\n",
            "INFO:tensorflow:Assets written to: model_experiments/model_2_dense/assets\n",
            "INFO:tensorflow:Assets written to: model_experiments/model_2_dense/assets\n",
            "INFO:tensorflow:Assets written to: model_experiments/model_2_dense/assets\n",
            "INFO:tensorflow:Assets written to: model_experiments/model_2_dense/assets\n",
            "INFO:tensorflow:Assets written to: model_experiments/model_2_dense/assets\n",
            "INFO:tensorflow:Assets written to: model_experiments/model_2_dense/assets\n",
            "INFO:tensorflow:Assets written to: model_experiments/model_2_dense/assets\n",
            "INFO:tensorflow:Assets written to: model_experiments/model_2_dense/assets\n",
            "INFO:tensorflow:Assets written to: model_experiments/model_2_dense/assets\n",
            "INFO:tensorflow:Assets written to: model_experiments/model_2_dense/assets\n",
            "INFO:tensorflow:Assets written to: model_experiments/model_2_dense/assets\n",
            "INFO:tensorflow:Assets written to: model_experiments/model_2_dense/assets\n",
            "INFO:tensorflow:Assets written to: model_experiments/model_2_dense/assets\n",
            "INFO:tensorflow:Assets written to: model_experiments/model_2_dense/assets\n",
            "INFO:tensorflow:Assets written to: model_experiments/model_2_dense/assets\n",
            "INFO:tensorflow:Assets written to: model_experiments/model_2_dense/assets\n",
            "INFO:tensorflow:Assets written to: model_experiments/model_2_dense/assets\n",
            "INFO:tensorflow:Assets written to: model_experiments/model_2_dense/assets\n",
            "INFO:tensorflow:Assets written to: model_experiments/model_2_dense/assets\n",
            "INFO:tensorflow:Assets written to: model_experiments/model_2_dense/assets\n"
          ]
        },
        {
          "output_type": "execute_result",
          "data": {
            "text/plain": [
              "<keras.callbacks.History at 0x7f6be30869d0>"
            ]
          },
          "metadata": {},
          "execution_count": 32
        }
      ]
    },
    {
      "cell_type": "code",
      "metadata": {
        "colab": {
          "base_uri": "https://localhost:8080/"
        },
        "id": "Strr6SkoCAnJ",
        "outputId": "92d4f7d8-4710-48c0-8b36-d8b5a9865a26"
      },
      "source": [
        "# Load in best performing model\n",
        "model_2 = tf.keras.models.load_model(\"model_experiments/model_2_dense/\")\n",
        "model_2.evaluate(test_windows, test_labels)"
      ],
      "execution_count": 33,
      "outputs": [
        {
          "output_type": "stream",
          "name": "stdout",
          "text": [
            "16/16 [==============================] - 0s 1ms/step - loss: 1019.8095\n"
          ]
        },
        {
          "output_type": "execute_result",
          "data": {
            "text/plain": [
              "1019.8095092773438"
            ]
          },
          "metadata": {},
          "execution_count": 33
        }
      ]
    },
    {
      "cell_type": "code",
      "metadata": {
        "id": "dNwH7ocWCImB"
      },
      "source": [
        "# Get forecast predictions\n",
        "model_2_preds = make_preds(model_2,\n",
        "                           input_data=test_windows)"
      ],
      "execution_count": 34,
      "outputs": []
    },
    {
      "cell_type": "code",
      "metadata": {
        "colab": {
          "base_uri": "https://localhost:8080/"
        },
        "id": "dZ0nyu-6CPWM",
        "outputId": "c110b435-6cbc-492b-d947-e10a90d2cfd7"
      },
      "source": [
        "# Evaluate results for model 2 predictions\n",
        "model_2_results = evaluate_preds(y_true=tf.squeeze(test_labels), # remove 1 dimension of test labels\n",
        "                                 y_pred=model_2_preds)\n",
        "model_2_results"
      ],
      "execution_count": 35,
      "outputs": [
        {
          "output_type": "execute_result",
          "data": {
            "text/plain": [
              "{'mae': 1019.80945,\n",
              " 'mape': 2.8408175,\n",
              " 'mase': 1.0767679,\n",
              " 'mse': 2369926.5,\n",
              " 'rmse': 1539.4565}"
            ]
          },
          "metadata": {},
          "execution_count": 35
        }
      ]
    },
    {
      "cell_type": "markdown",
      "metadata": {
        "id": "4yG385BYCaDg"
      },
      "source": [
        "Model 3: Dense (window = 30, horizon = 7)"
      ]
    },
    {
      "cell_type": "code",
      "metadata": {
        "colab": {
          "base_uri": "https://localhost:8080/"
        },
        "id": "pPe6RS67CRCZ",
        "outputId": "782c49ea-2df1-4bf1-b8fd-c44a35800468"
      },
      "source": [
        "HORIZON = 7\n",
        "WINDOW_SIZE = 30\n",
        "\n",
        "full_windows, full_labels = make_windows(prices, window_size=WINDOW_SIZE, horizon=HORIZON)\n",
        "len(full_windows), len(full_labels)"
      ],
      "execution_count": 36,
      "outputs": [
        {
          "output_type": "execute_result",
          "data": {
            "text/plain": [
              "(2521, 2521)"
            ]
          },
          "metadata": {},
          "execution_count": 36
        }
      ]
    },
    {
      "cell_type": "code",
      "metadata": {
        "colab": {
          "base_uri": "https://localhost:8080/"
        },
        "id": "qmvjf2UiCb0c",
        "outputId": "5b5d0b95-b947-4b9b-bb4d-c78a888977fa"
      },
      "source": [
        "train_windows, test_windows, train_labels, test_labels = make_train_test_splits(windows=full_windows, labels=full_labels, test_split=0.2)\n",
        "len(train_windows), len(test_windows), len(train_labels), len(test_labels)"
      ],
      "execution_count": 37,
      "outputs": [
        {
          "output_type": "execute_result",
          "data": {
            "text/plain": [
              "(2016, 505, 2016, 505)"
            ]
          },
          "metadata": {},
          "execution_count": 37
        }
      ]
    },
    {
      "cell_type": "code",
      "metadata": {
        "colab": {
          "base_uri": "https://localhost:8080/"
        },
        "id": "AfKZklF_CdGz",
        "outputId": "ee4c75d8-ed4a-4060-e00d-000788f2da09"
      },
      "source": [
        "tf.random.set_seed(42)\n",
        "\n",
        "# Create model (same as model_1 except with different data input size)\n",
        "model_3 = tf.keras.Sequential([\n",
        "  layers.Dense(128, activation=\"relu\"),\n",
        "  layers.Dense(HORIZON)\n",
        "], name=\"model_3_dense\")\n",
        "\n",
        "model_3.compile(loss=\"mae\",\n",
        "                optimizer=tf.keras.optimizers.Adam())\n",
        "\n",
        "model_3.fit(train_windows,\n",
        "            train_labels,\n",
        "            batch_size=128,\n",
        "            epochs=100,\n",
        "            verbose=0,\n",
        "            validation_data=(test_windows, test_labels),\n",
        "            callbacks=[create_model_checkpoint(model_name=model_3.name)])"
      ],
      "execution_count": 38,
      "outputs": [
        {
          "output_type": "stream",
          "name": "stdout",
          "text": [
            "INFO:tensorflow:Assets written to: model_experiments/model_3_dense/assets\n",
            "INFO:tensorflow:Assets written to: model_experiments/model_3_dense/assets\n",
            "INFO:tensorflow:Assets written to: model_experiments/model_3_dense/assets\n",
            "INFO:tensorflow:Assets written to: model_experiments/model_3_dense/assets\n",
            "INFO:tensorflow:Assets written to: model_experiments/model_3_dense/assets\n",
            "INFO:tensorflow:Assets written to: model_experiments/model_3_dense/assets\n",
            "INFO:tensorflow:Assets written to: model_experiments/model_3_dense/assets\n",
            "INFO:tensorflow:Assets written to: model_experiments/model_3_dense/assets\n",
            "INFO:tensorflow:Assets written to: model_experiments/model_3_dense/assets\n",
            "INFO:tensorflow:Assets written to: model_experiments/model_3_dense/assets\n",
            "INFO:tensorflow:Assets written to: model_experiments/model_3_dense/assets\n",
            "INFO:tensorflow:Assets written to: model_experiments/model_3_dense/assets\n",
            "INFO:tensorflow:Assets written to: model_experiments/model_3_dense/assets\n",
            "INFO:tensorflow:Assets written to: model_experiments/model_3_dense/assets\n",
            "INFO:tensorflow:Assets written to: model_experiments/model_3_dense/assets\n",
            "INFO:tensorflow:Assets written to: model_experiments/model_3_dense/assets\n",
            "INFO:tensorflow:Assets written to: model_experiments/model_3_dense/assets\n",
            "INFO:tensorflow:Assets written to: model_experiments/model_3_dense/assets\n",
            "INFO:tensorflow:Assets written to: model_experiments/model_3_dense/assets\n",
            "INFO:tensorflow:Assets written to: model_experiments/model_3_dense/assets\n",
            "INFO:tensorflow:Assets written to: model_experiments/model_3_dense/assets\n",
            "INFO:tensorflow:Assets written to: model_experiments/model_3_dense/assets\n",
            "INFO:tensorflow:Assets written to: model_experiments/model_3_dense/assets\n",
            "INFO:tensorflow:Assets written to: model_experiments/model_3_dense/assets\n",
            "INFO:tensorflow:Assets written to: model_experiments/model_3_dense/assets\n",
            "INFO:tensorflow:Assets written to: model_experiments/model_3_dense/assets\n",
            "INFO:tensorflow:Assets written to: model_experiments/model_3_dense/assets\n",
            "INFO:tensorflow:Assets written to: model_experiments/model_3_dense/assets\n",
            "INFO:tensorflow:Assets written to: model_experiments/model_3_dense/assets\n",
            "INFO:tensorflow:Assets written to: model_experiments/model_3_dense/assets\n",
            "INFO:tensorflow:Assets written to: model_experiments/model_3_dense/assets\n",
            "INFO:tensorflow:Assets written to: model_experiments/model_3_dense/assets\n",
            "INFO:tensorflow:Assets written to: model_experiments/model_3_dense/assets\n",
            "INFO:tensorflow:Assets written to: model_experiments/model_3_dense/assets\n"
          ]
        },
        {
          "output_type": "execute_result",
          "data": {
            "text/plain": [
              "<keras.callbacks.History at 0x7f6be2e75a90>"
            ]
          },
          "metadata": {},
          "execution_count": 38
        }
      ]
    },
    {
      "cell_type": "code",
      "metadata": {
        "colab": {
          "base_uri": "https://localhost:8080/"
        },
        "id": "NjBELRn-Ce2n",
        "outputId": "3cce3658-3f14-4176-e9ff-17a2e9fed5ad"
      },
      "source": [
        "# Load in best version of model_3 and evaluate\n",
        "model_3 = tf.keras.models.load_model(\"model_experiments/model_3_dense/\")\n",
        "model_3.evaluate(test_windows, test_labels)"
      ],
      "execution_count": 39,
      "outputs": [
        {
          "output_type": "stream",
          "name": "stdout",
          "text": [
            "16/16 [==============================] - 0s 1ms/step - loss: 2062.3662\n"
          ]
        },
        {
          "output_type": "execute_result",
          "data": {
            "text/plain": [
              "2062.3662109375"
            ]
          },
          "metadata": {},
          "execution_count": 39
        }
      ]
    },
    {
      "cell_type": "code",
      "metadata": {
        "id": "JvmeUlqVCkHD"
      },
      "source": [
        "# The predictions are going to be 7 steps at a time (this is the HORIZON size)\n",
        "model_3_preds = make_preds(model_3,\n",
        "                           input_data=test_windows)"
      ],
      "execution_count": 40,
      "outputs": []
    },
    {
      "cell_type": "code",
      "metadata": {
        "colab": {
          "base_uri": "https://localhost:8080/"
        },
        "id": "olTTYydgCsUK",
        "outputId": "9a591804-c288-4194-a84f-4b55fde91f30"
      },
      "source": [
        "# Calculate model_3 results - these are going to be multi-dimensional because\n",
        "# we're trying to predict more than one step at a time.\n",
        "model_3_results = evaluate_preds(y_true=tf.squeeze(test_labels),\n",
        "                                 y_pred=model_3_preds)\n",
        "model_3_results"
      ],
      "execution_count": 41,
      "outputs": [
        {
          "output_type": "execute_result",
          "data": {
            "text/plain": [
              "{'mae': 2062.3662,\n",
              " 'mape': 5.6824837,\n",
              " 'mase': 2.182062,\n",
              " 'mse': 10040257.0,\n",
              " 'rmse': 2348.911}"
            ]
          },
          "metadata": {},
          "execution_count": 41
        }
      ]
    },
    {
      "cell_type": "markdown",
      "metadata": {
        "id": "wrEEvhbfC_-A"
      },
      "source": [
        "Model 5: RNN (LSTM)"
      ]
    },
    {
      "cell_type": "code",
      "metadata": {
        "colab": {
          "base_uri": "https://localhost:8080/"
        },
        "id": "pAfHMrQcC1jy",
        "outputId": "78a43329-8084-4108-c299-637da420056f"
      },
      "source": [
        "tf.random.set_seed(42)\n",
        "\n",
        "# Let's build an LSTM model with the Functional API\n",
        "inputs = layers.Input(shape=(WINDOW_SIZE))\n",
        "x = layers.Lambda(lambda x: tf.expand_dims(x, axis=1))(inputs) # expand input dimension to be compatible with LSTM\n",
        "# print(x.shape)\n",
        "# x = layers.LSTM(128, activation=\"relu\", return_sequences=True)(x) # this layer will error if the inputs are not the right shape\n",
        "x = layers.LSTM(128, activation=\"relu\")(x) # using the tanh loss function results in a massive error\n",
        "# print(x.shape)\n",
        "# Add another optional dense layer (you could add more of these to see if they improve model performance)\n",
        "# x = layers.Dense(32, activation=\"relu\")(x)\n",
        "output = layers.Dense(HORIZON)(x)\n",
        "model_5 = tf.keras.Model(inputs=inputs, outputs=output, name=\"model_5_lstm\")\n",
        "\n",
        "# Compile model\n",
        "model_5.compile(loss=\"mae\",\n",
        "                optimizer=tf.keras.optimizers.Adam())\n",
        "\n",
        "# Seems when saving the model several warnings are appearing: https://github.com/tensorflow/tensorflow/issues/47554 \n",
        "model_5.fit(train_windows,\n",
        "            train_labels,\n",
        "            epochs=100,\n",
        "            verbose=0,\n",
        "            batch_size=128,\n",
        "            validation_data=(test_windows, test_labels),\n",
        "            callbacks=[create_model_checkpoint(model_name=model_5.name)])"
      ],
      "execution_count": 42,
      "outputs": [
        {
          "output_type": "stream",
          "name": "stdout",
          "text": [
            "INFO:tensorflow:Assets written to: model_experiments/model_5_lstm/assets\n"
          ]
        },
        {
          "output_type": "stream",
          "name": "stderr",
          "text": [
            "WARNING:absl:<keras.layers.recurrent.LSTMCell object at 0x7f6be2fc4f10> has the same name 'LSTMCell' as a built-in Keras object. Consider renaming <class 'keras.layers.recurrent.LSTMCell'> to avoid naming conflicts when loading with `tf.keras.models.load_model`. If renaming is not possible, pass the object in the `custom_objects` parameter of the load function.\n"
          ]
        },
        {
          "output_type": "stream",
          "name": "stdout",
          "text": [
            "INFO:tensorflow:Assets written to: model_experiments/model_5_lstm/assets\n"
          ]
        },
        {
          "output_type": "stream",
          "name": "stderr",
          "text": [
            "INFO:tensorflow:Assets written to: model_experiments/model_5_lstm/assets\n",
            "WARNING:absl:<keras.layers.recurrent.LSTMCell object at 0x7f6be2fc4f10> has the same name 'LSTMCell' as a built-in Keras object. Consider renaming <class 'keras.layers.recurrent.LSTMCell'> to avoid naming conflicts when loading with `tf.keras.models.load_model`. If renaming is not possible, pass the object in the `custom_objects` parameter of the load function.\n"
          ]
        },
        {
          "output_type": "stream",
          "name": "stdout",
          "text": [
            "INFO:tensorflow:Assets written to: model_experiments/model_5_lstm/assets\n"
          ]
        },
        {
          "output_type": "stream",
          "name": "stderr",
          "text": [
            "INFO:tensorflow:Assets written to: model_experiments/model_5_lstm/assets\n",
            "WARNING:absl:<keras.layers.recurrent.LSTMCell object at 0x7f6be2fc4f10> has the same name 'LSTMCell' as a built-in Keras object. Consider renaming <class 'keras.layers.recurrent.LSTMCell'> to avoid naming conflicts when loading with `tf.keras.models.load_model`. If renaming is not possible, pass the object in the `custom_objects` parameter of the load function.\n"
          ]
        },
        {
          "output_type": "stream",
          "name": "stdout",
          "text": [
            "INFO:tensorflow:Assets written to: model_experiments/model_5_lstm/assets\n"
          ]
        },
        {
          "output_type": "stream",
          "name": "stderr",
          "text": [
            "INFO:tensorflow:Assets written to: model_experiments/model_5_lstm/assets\n",
            "WARNING:absl:<keras.layers.recurrent.LSTMCell object at 0x7f6be2fc4f10> has the same name 'LSTMCell' as a built-in Keras object. Consider renaming <class 'keras.layers.recurrent.LSTMCell'> to avoid naming conflicts when loading with `tf.keras.models.load_model`. If renaming is not possible, pass the object in the `custom_objects` parameter of the load function.\n"
          ]
        },
        {
          "output_type": "stream",
          "name": "stdout",
          "text": [
            "INFO:tensorflow:Assets written to: model_experiments/model_5_lstm/assets\n"
          ]
        },
        {
          "output_type": "stream",
          "name": "stderr",
          "text": [
            "INFO:tensorflow:Assets written to: model_experiments/model_5_lstm/assets\n",
            "WARNING:absl:<keras.layers.recurrent.LSTMCell object at 0x7f6be2fc4f10> has the same name 'LSTMCell' as a built-in Keras object. Consider renaming <class 'keras.layers.recurrent.LSTMCell'> to avoid naming conflicts when loading with `tf.keras.models.load_model`. If renaming is not possible, pass the object in the `custom_objects` parameter of the load function.\n"
          ]
        },
        {
          "output_type": "stream",
          "name": "stdout",
          "text": [
            "INFO:tensorflow:Assets written to: model_experiments/model_5_lstm/assets\n"
          ]
        },
        {
          "output_type": "stream",
          "name": "stderr",
          "text": [
            "INFO:tensorflow:Assets written to: model_experiments/model_5_lstm/assets\n",
            "WARNING:absl:<keras.layers.recurrent.LSTMCell object at 0x7f6be2fc4f10> has the same name 'LSTMCell' as a built-in Keras object. Consider renaming <class 'keras.layers.recurrent.LSTMCell'> to avoid naming conflicts when loading with `tf.keras.models.load_model`. If renaming is not possible, pass the object in the `custom_objects` parameter of the load function.\n"
          ]
        },
        {
          "output_type": "stream",
          "name": "stdout",
          "text": [
            "INFO:tensorflow:Assets written to: model_experiments/model_5_lstm/assets\n"
          ]
        },
        {
          "output_type": "stream",
          "name": "stderr",
          "text": [
            "INFO:tensorflow:Assets written to: model_experiments/model_5_lstm/assets\n",
            "WARNING:absl:<keras.layers.recurrent.LSTMCell object at 0x7f6be2fc4f10> has the same name 'LSTMCell' as a built-in Keras object. Consider renaming <class 'keras.layers.recurrent.LSTMCell'> to avoid naming conflicts when loading with `tf.keras.models.load_model`. If renaming is not possible, pass the object in the `custom_objects` parameter of the load function.\n"
          ]
        },
        {
          "output_type": "stream",
          "name": "stdout",
          "text": [
            "INFO:tensorflow:Assets written to: model_experiments/model_5_lstm/assets\n"
          ]
        },
        {
          "output_type": "stream",
          "name": "stderr",
          "text": [
            "INFO:tensorflow:Assets written to: model_experiments/model_5_lstm/assets\n",
            "WARNING:absl:<keras.layers.recurrent.LSTMCell object at 0x7f6be2fc4f10> has the same name 'LSTMCell' as a built-in Keras object. Consider renaming <class 'keras.layers.recurrent.LSTMCell'> to avoid naming conflicts when loading with `tf.keras.models.load_model`. If renaming is not possible, pass the object in the `custom_objects` parameter of the load function.\n"
          ]
        },
        {
          "output_type": "stream",
          "name": "stdout",
          "text": [
            "INFO:tensorflow:Assets written to: model_experiments/model_5_lstm/assets\n"
          ]
        },
        {
          "output_type": "stream",
          "name": "stderr",
          "text": [
            "INFO:tensorflow:Assets written to: model_experiments/model_5_lstm/assets\n",
            "WARNING:absl:<keras.layers.recurrent.LSTMCell object at 0x7f6be2fc4f10> has the same name 'LSTMCell' as a built-in Keras object. Consider renaming <class 'keras.layers.recurrent.LSTMCell'> to avoid naming conflicts when loading with `tf.keras.models.load_model`. If renaming is not possible, pass the object in the `custom_objects` parameter of the load function.\n"
          ]
        },
        {
          "output_type": "stream",
          "name": "stdout",
          "text": [
            "INFO:tensorflow:Assets written to: model_experiments/model_5_lstm/assets\n"
          ]
        },
        {
          "output_type": "stream",
          "name": "stderr",
          "text": [
            "INFO:tensorflow:Assets written to: model_experiments/model_5_lstm/assets\n",
            "WARNING:absl:<keras.layers.recurrent.LSTMCell object at 0x7f6be2fc4f10> has the same name 'LSTMCell' as a built-in Keras object. Consider renaming <class 'keras.layers.recurrent.LSTMCell'> to avoid naming conflicts when loading with `tf.keras.models.load_model`. If renaming is not possible, pass the object in the `custom_objects` parameter of the load function.\n"
          ]
        },
        {
          "output_type": "stream",
          "name": "stdout",
          "text": [
            "INFO:tensorflow:Assets written to: model_experiments/model_5_lstm/assets\n"
          ]
        },
        {
          "output_type": "stream",
          "name": "stderr",
          "text": [
            "INFO:tensorflow:Assets written to: model_experiments/model_5_lstm/assets\n",
            "WARNING:absl:<keras.layers.recurrent.LSTMCell object at 0x7f6be2fc4f10> has the same name 'LSTMCell' as a built-in Keras object. Consider renaming <class 'keras.layers.recurrent.LSTMCell'> to avoid naming conflicts when loading with `tf.keras.models.load_model`. If renaming is not possible, pass the object in the `custom_objects` parameter of the load function.\n"
          ]
        },
        {
          "output_type": "stream",
          "name": "stdout",
          "text": [
            "INFO:tensorflow:Assets written to: model_experiments/model_5_lstm/assets\n"
          ]
        },
        {
          "output_type": "stream",
          "name": "stderr",
          "text": [
            "INFO:tensorflow:Assets written to: model_experiments/model_5_lstm/assets\n",
            "WARNING:absl:<keras.layers.recurrent.LSTMCell object at 0x7f6be2fc4f10> has the same name 'LSTMCell' as a built-in Keras object. Consider renaming <class 'keras.layers.recurrent.LSTMCell'> to avoid naming conflicts when loading with `tf.keras.models.load_model`. If renaming is not possible, pass the object in the `custom_objects` parameter of the load function.\n"
          ]
        },
        {
          "output_type": "stream",
          "name": "stdout",
          "text": [
            "INFO:tensorflow:Assets written to: model_experiments/model_5_lstm/assets\n"
          ]
        },
        {
          "output_type": "stream",
          "name": "stderr",
          "text": [
            "INFO:tensorflow:Assets written to: model_experiments/model_5_lstm/assets\n",
            "WARNING:absl:<keras.layers.recurrent.LSTMCell object at 0x7f6be2fc4f10> has the same name 'LSTMCell' as a built-in Keras object. Consider renaming <class 'keras.layers.recurrent.LSTMCell'> to avoid naming conflicts when loading with `tf.keras.models.load_model`. If renaming is not possible, pass the object in the `custom_objects` parameter of the load function.\n"
          ]
        },
        {
          "output_type": "stream",
          "name": "stdout",
          "text": [
            "INFO:tensorflow:Assets written to: model_experiments/model_5_lstm/assets\n"
          ]
        },
        {
          "output_type": "stream",
          "name": "stderr",
          "text": [
            "INFO:tensorflow:Assets written to: model_experiments/model_5_lstm/assets\n",
            "WARNING:absl:<keras.layers.recurrent.LSTMCell object at 0x7f6be2fc4f10> has the same name 'LSTMCell' as a built-in Keras object. Consider renaming <class 'keras.layers.recurrent.LSTMCell'> to avoid naming conflicts when loading with `tf.keras.models.load_model`. If renaming is not possible, pass the object in the `custom_objects` parameter of the load function.\n"
          ]
        },
        {
          "output_type": "stream",
          "name": "stdout",
          "text": [
            "INFO:tensorflow:Assets written to: model_experiments/model_5_lstm/assets\n"
          ]
        },
        {
          "output_type": "stream",
          "name": "stderr",
          "text": [
            "INFO:tensorflow:Assets written to: model_experiments/model_5_lstm/assets\n",
            "WARNING:absl:<keras.layers.recurrent.LSTMCell object at 0x7f6be2fc4f10> has the same name 'LSTMCell' as a built-in Keras object. Consider renaming <class 'keras.layers.recurrent.LSTMCell'> to avoid naming conflicts when loading with `tf.keras.models.load_model`. If renaming is not possible, pass the object in the `custom_objects` parameter of the load function.\n"
          ]
        },
        {
          "output_type": "stream",
          "name": "stdout",
          "text": [
            "INFO:tensorflow:Assets written to: model_experiments/model_5_lstm/assets\n"
          ]
        },
        {
          "output_type": "stream",
          "name": "stderr",
          "text": [
            "INFO:tensorflow:Assets written to: model_experiments/model_5_lstm/assets\n",
            "WARNING:absl:<keras.layers.recurrent.LSTMCell object at 0x7f6be2fc4f10> has the same name 'LSTMCell' as a built-in Keras object. Consider renaming <class 'keras.layers.recurrent.LSTMCell'> to avoid naming conflicts when loading with `tf.keras.models.load_model`. If renaming is not possible, pass the object in the `custom_objects` parameter of the load function.\n"
          ]
        },
        {
          "output_type": "stream",
          "name": "stdout",
          "text": [
            "INFO:tensorflow:Assets written to: model_experiments/model_5_lstm/assets\n"
          ]
        },
        {
          "output_type": "stream",
          "name": "stderr",
          "text": [
            "INFO:tensorflow:Assets written to: model_experiments/model_5_lstm/assets\n",
            "WARNING:absl:<keras.layers.recurrent.LSTMCell object at 0x7f6be2fc4f10> has the same name 'LSTMCell' as a built-in Keras object. Consider renaming <class 'keras.layers.recurrent.LSTMCell'> to avoid naming conflicts when loading with `tf.keras.models.load_model`. If renaming is not possible, pass the object in the `custom_objects` parameter of the load function.\n"
          ]
        },
        {
          "output_type": "stream",
          "name": "stdout",
          "text": [
            "INFO:tensorflow:Assets written to: model_experiments/model_5_lstm/assets\n"
          ]
        },
        {
          "output_type": "stream",
          "name": "stderr",
          "text": [
            "INFO:tensorflow:Assets written to: model_experiments/model_5_lstm/assets\n",
            "WARNING:absl:<keras.layers.recurrent.LSTMCell object at 0x7f6be2fc4f10> has the same name 'LSTMCell' as a built-in Keras object. Consider renaming <class 'keras.layers.recurrent.LSTMCell'> to avoid naming conflicts when loading with `tf.keras.models.load_model`. If renaming is not possible, pass the object in the `custom_objects` parameter of the load function.\n"
          ]
        },
        {
          "output_type": "stream",
          "name": "stdout",
          "text": [
            "INFO:tensorflow:Assets written to: model_experiments/model_5_lstm/assets\n"
          ]
        },
        {
          "output_type": "stream",
          "name": "stderr",
          "text": [
            "INFO:tensorflow:Assets written to: model_experiments/model_5_lstm/assets\n",
            "WARNING:absl:<keras.layers.recurrent.LSTMCell object at 0x7f6be2fc4f10> has the same name 'LSTMCell' as a built-in Keras object. Consider renaming <class 'keras.layers.recurrent.LSTMCell'> to avoid naming conflicts when loading with `tf.keras.models.load_model`. If renaming is not possible, pass the object in the `custom_objects` parameter of the load function.\n"
          ]
        },
        {
          "output_type": "stream",
          "name": "stdout",
          "text": [
            "INFO:tensorflow:Assets written to: model_experiments/model_5_lstm/assets\n"
          ]
        },
        {
          "output_type": "stream",
          "name": "stderr",
          "text": [
            "INFO:tensorflow:Assets written to: model_experiments/model_5_lstm/assets\n",
            "WARNING:absl:<keras.layers.recurrent.LSTMCell object at 0x7f6be2fc4f10> has the same name 'LSTMCell' as a built-in Keras object. Consider renaming <class 'keras.layers.recurrent.LSTMCell'> to avoid naming conflicts when loading with `tf.keras.models.load_model`. If renaming is not possible, pass the object in the `custom_objects` parameter of the load function.\n"
          ]
        },
        {
          "output_type": "stream",
          "name": "stdout",
          "text": [
            "INFO:tensorflow:Assets written to: model_experiments/model_5_lstm/assets\n"
          ]
        },
        {
          "output_type": "stream",
          "name": "stderr",
          "text": [
            "INFO:tensorflow:Assets written to: model_experiments/model_5_lstm/assets\n",
            "WARNING:absl:<keras.layers.recurrent.LSTMCell object at 0x7f6be2fc4f10> has the same name 'LSTMCell' as a built-in Keras object. Consider renaming <class 'keras.layers.recurrent.LSTMCell'> to avoid naming conflicts when loading with `tf.keras.models.load_model`. If renaming is not possible, pass the object in the `custom_objects` parameter of the load function.\n"
          ]
        },
        {
          "output_type": "stream",
          "name": "stdout",
          "text": [
            "INFO:tensorflow:Assets written to: model_experiments/model_5_lstm/assets\n"
          ]
        },
        {
          "output_type": "stream",
          "name": "stderr",
          "text": [
            "INFO:tensorflow:Assets written to: model_experiments/model_5_lstm/assets\n",
            "WARNING:absl:<keras.layers.recurrent.LSTMCell object at 0x7f6be2fc4f10> has the same name 'LSTMCell' as a built-in Keras object. Consider renaming <class 'keras.layers.recurrent.LSTMCell'> to avoid naming conflicts when loading with `tf.keras.models.load_model`. If renaming is not possible, pass the object in the `custom_objects` parameter of the load function.\n"
          ]
        },
        {
          "output_type": "stream",
          "name": "stdout",
          "text": [
            "INFO:tensorflow:Assets written to: model_experiments/model_5_lstm/assets\n"
          ]
        },
        {
          "output_type": "stream",
          "name": "stderr",
          "text": [
            "INFO:tensorflow:Assets written to: model_experiments/model_5_lstm/assets\n",
            "WARNING:absl:<keras.layers.recurrent.LSTMCell object at 0x7f6be2fc4f10> has the same name 'LSTMCell' as a built-in Keras object. Consider renaming <class 'keras.layers.recurrent.LSTMCell'> to avoid naming conflicts when loading with `tf.keras.models.load_model`. If renaming is not possible, pass the object in the `custom_objects` parameter of the load function.\n"
          ]
        },
        {
          "output_type": "stream",
          "name": "stdout",
          "text": [
            "INFO:tensorflow:Assets written to: model_experiments/model_5_lstm/assets\n"
          ]
        },
        {
          "output_type": "stream",
          "name": "stderr",
          "text": [
            "INFO:tensorflow:Assets written to: model_experiments/model_5_lstm/assets\n",
            "WARNING:absl:<keras.layers.recurrent.LSTMCell object at 0x7f6be2fc4f10> has the same name 'LSTMCell' as a built-in Keras object. Consider renaming <class 'keras.layers.recurrent.LSTMCell'> to avoid naming conflicts when loading with `tf.keras.models.load_model`. If renaming is not possible, pass the object in the `custom_objects` parameter of the load function.\n"
          ]
        },
        {
          "output_type": "stream",
          "name": "stdout",
          "text": [
            "INFO:tensorflow:Assets written to: model_experiments/model_5_lstm/assets\n"
          ]
        },
        {
          "output_type": "stream",
          "name": "stderr",
          "text": [
            "INFO:tensorflow:Assets written to: model_experiments/model_5_lstm/assets\n",
            "WARNING:absl:<keras.layers.recurrent.LSTMCell object at 0x7f6be2fc4f10> has the same name 'LSTMCell' as a built-in Keras object. Consider renaming <class 'keras.layers.recurrent.LSTMCell'> to avoid naming conflicts when loading with `tf.keras.models.load_model`. If renaming is not possible, pass the object in the `custom_objects` parameter of the load function.\n"
          ]
        },
        {
          "output_type": "stream",
          "name": "stdout",
          "text": [
            "INFO:tensorflow:Assets written to: model_experiments/model_5_lstm/assets\n"
          ]
        },
        {
          "output_type": "stream",
          "name": "stderr",
          "text": [
            "INFO:tensorflow:Assets written to: model_experiments/model_5_lstm/assets\n",
            "WARNING:absl:<keras.layers.recurrent.LSTMCell object at 0x7f6be2fc4f10> has the same name 'LSTMCell' as a built-in Keras object. Consider renaming <class 'keras.layers.recurrent.LSTMCell'> to avoid naming conflicts when loading with `tf.keras.models.load_model`. If renaming is not possible, pass the object in the `custom_objects` parameter of the load function.\n"
          ]
        },
        {
          "output_type": "stream",
          "name": "stdout",
          "text": [
            "INFO:tensorflow:Assets written to: model_experiments/model_5_lstm/assets\n"
          ]
        },
        {
          "output_type": "stream",
          "name": "stderr",
          "text": [
            "INFO:tensorflow:Assets written to: model_experiments/model_5_lstm/assets\n",
            "WARNING:absl:<keras.layers.recurrent.LSTMCell object at 0x7f6be2fc4f10> has the same name 'LSTMCell' as a built-in Keras object. Consider renaming <class 'keras.layers.recurrent.LSTMCell'> to avoid naming conflicts when loading with `tf.keras.models.load_model`. If renaming is not possible, pass the object in the `custom_objects` parameter of the load function.\n"
          ]
        },
        {
          "output_type": "stream",
          "name": "stdout",
          "text": [
            "INFO:tensorflow:Assets written to: model_experiments/model_5_lstm/assets\n"
          ]
        },
        {
          "output_type": "stream",
          "name": "stderr",
          "text": [
            "INFO:tensorflow:Assets written to: model_experiments/model_5_lstm/assets\n",
            "WARNING:absl:<keras.layers.recurrent.LSTMCell object at 0x7f6be2fc4f10> has the same name 'LSTMCell' as a built-in Keras object. Consider renaming <class 'keras.layers.recurrent.LSTMCell'> to avoid naming conflicts when loading with `tf.keras.models.load_model`. If renaming is not possible, pass the object in the `custom_objects` parameter of the load function.\n"
          ]
        },
        {
          "output_type": "stream",
          "name": "stdout",
          "text": [
            "INFO:tensorflow:Assets written to: model_experiments/model_5_lstm/assets\n"
          ]
        },
        {
          "output_type": "stream",
          "name": "stderr",
          "text": [
            "INFO:tensorflow:Assets written to: model_experiments/model_5_lstm/assets\n",
            "WARNING:absl:<keras.layers.recurrent.LSTMCell object at 0x7f6be2fc4f10> has the same name 'LSTMCell' as a built-in Keras object. Consider renaming <class 'keras.layers.recurrent.LSTMCell'> to avoid naming conflicts when loading with `tf.keras.models.load_model`. If renaming is not possible, pass the object in the `custom_objects` parameter of the load function.\n"
          ]
        },
        {
          "output_type": "stream",
          "name": "stdout",
          "text": [
            "INFO:tensorflow:Assets written to: model_experiments/model_5_lstm/assets\n"
          ]
        },
        {
          "output_type": "stream",
          "name": "stderr",
          "text": [
            "INFO:tensorflow:Assets written to: model_experiments/model_5_lstm/assets\n",
            "WARNING:absl:<keras.layers.recurrent.LSTMCell object at 0x7f6be2fc4f10> has the same name 'LSTMCell' as a built-in Keras object. Consider renaming <class 'keras.layers.recurrent.LSTMCell'> to avoid naming conflicts when loading with `tf.keras.models.load_model`. If renaming is not possible, pass the object in the `custom_objects` parameter of the load function.\n"
          ]
        },
        {
          "output_type": "stream",
          "name": "stdout",
          "text": [
            "INFO:tensorflow:Assets written to: model_experiments/model_5_lstm/assets\n"
          ]
        },
        {
          "output_type": "stream",
          "name": "stderr",
          "text": [
            "INFO:tensorflow:Assets written to: model_experiments/model_5_lstm/assets\n",
            "WARNING:absl:<keras.layers.recurrent.LSTMCell object at 0x7f6be2fc4f10> has the same name 'LSTMCell' as a built-in Keras object. Consider renaming <class 'keras.layers.recurrent.LSTMCell'> to avoid naming conflicts when loading with `tf.keras.models.load_model`. If renaming is not possible, pass the object in the `custom_objects` parameter of the load function.\n"
          ]
        },
        {
          "output_type": "stream",
          "name": "stdout",
          "text": [
            "INFO:tensorflow:Assets written to: model_experiments/model_5_lstm/assets\n"
          ]
        },
        {
          "output_type": "stream",
          "name": "stderr",
          "text": [
            "INFO:tensorflow:Assets written to: model_experiments/model_5_lstm/assets\n",
            "WARNING:absl:<keras.layers.recurrent.LSTMCell object at 0x7f6be2fc4f10> has the same name 'LSTMCell' as a built-in Keras object. Consider renaming <class 'keras.layers.recurrent.LSTMCell'> to avoid naming conflicts when loading with `tf.keras.models.load_model`. If renaming is not possible, pass the object in the `custom_objects` parameter of the load function.\n"
          ]
        },
        {
          "output_type": "stream",
          "name": "stdout",
          "text": [
            "INFO:tensorflow:Assets written to: model_experiments/model_5_lstm/assets\n"
          ]
        },
        {
          "output_type": "stream",
          "name": "stderr",
          "text": [
            "INFO:tensorflow:Assets written to: model_experiments/model_5_lstm/assets\n",
            "WARNING:absl:<keras.layers.recurrent.LSTMCell object at 0x7f6be2fc4f10> has the same name 'LSTMCell' as a built-in Keras object. Consider renaming <class 'keras.layers.recurrent.LSTMCell'> to avoid naming conflicts when loading with `tf.keras.models.load_model`. If renaming is not possible, pass the object in the `custom_objects` parameter of the load function.\n"
          ]
        },
        {
          "output_type": "stream",
          "name": "stdout",
          "text": [
            "INFO:tensorflow:Assets written to: model_experiments/model_5_lstm/assets\n"
          ]
        },
        {
          "output_type": "stream",
          "name": "stderr",
          "text": [
            "INFO:tensorflow:Assets written to: model_experiments/model_5_lstm/assets\n",
            "WARNING:absl:<keras.layers.recurrent.LSTMCell object at 0x7f6be2fc4f10> has the same name 'LSTMCell' as a built-in Keras object. Consider renaming <class 'keras.layers.recurrent.LSTMCell'> to avoid naming conflicts when loading with `tf.keras.models.load_model`. If renaming is not possible, pass the object in the `custom_objects` parameter of the load function.\n"
          ]
        },
        {
          "output_type": "stream",
          "name": "stdout",
          "text": [
            "INFO:tensorflow:Assets written to: model_experiments/model_5_lstm/assets\n"
          ]
        },
        {
          "output_type": "stream",
          "name": "stderr",
          "text": [
            "INFO:tensorflow:Assets written to: model_experiments/model_5_lstm/assets\n",
            "WARNING:absl:<keras.layers.recurrent.LSTMCell object at 0x7f6be2fc4f10> has the same name 'LSTMCell' as a built-in Keras object. Consider renaming <class 'keras.layers.recurrent.LSTMCell'> to avoid naming conflicts when loading with `tf.keras.models.load_model`. If renaming is not possible, pass the object in the `custom_objects` parameter of the load function.\n"
          ]
        },
        {
          "output_type": "stream",
          "name": "stdout",
          "text": [
            "INFO:tensorflow:Assets written to: model_experiments/model_5_lstm/assets\n"
          ]
        },
        {
          "output_type": "stream",
          "name": "stderr",
          "text": [
            "INFO:tensorflow:Assets written to: model_experiments/model_5_lstm/assets\n",
            "WARNING:absl:<keras.layers.recurrent.LSTMCell object at 0x7f6be2fc4f10> has the same name 'LSTMCell' as a built-in Keras object. Consider renaming <class 'keras.layers.recurrent.LSTMCell'> to avoid naming conflicts when loading with `tf.keras.models.load_model`. If renaming is not possible, pass the object in the `custom_objects` parameter of the load function.\n"
          ]
        },
        {
          "output_type": "stream",
          "name": "stdout",
          "text": [
            "INFO:tensorflow:Assets written to: model_experiments/model_5_lstm/assets\n"
          ]
        },
        {
          "output_type": "stream",
          "name": "stderr",
          "text": [
            "INFO:tensorflow:Assets written to: model_experiments/model_5_lstm/assets\n",
            "WARNING:absl:<keras.layers.recurrent.LSTMCell object at 0x7f6be2fc4f10> has the same name 'LSTMCell' as a built-in Keras object. Consider renaming <class 'keras.layers.recurrent.LSTMCell'> to avoid naming conflicts when loading with `tf.keras.models.load_model`. If renaming is not possible, pass the object in the `custom_objects` parameter of the load function.\n"
          ]
        },
        {
          "output_type": "stream",
          "name": "stdout",
          "text": [
            "INFO:tensorflow:Assets written to: model_experiments/model_5_lstm/assets\n"
          ]
        },
        {
          "output_type": "stream",
          "name": "stderr",
          "text": [
            "INFO:tensorflow:Assets written to: model_experiments/model_5_lstm/assets\n",
            "WARNING:absl:<keras.layers.recurrent.LSTMCell object at 0x7f6be2fc4f10> has the same name 'LSTMCell' as a built-in Keras object. Consider renaming <class 'keras.layers.recurrent.LSTMCell'> to avoid naming conflicts when loading with `tf.keras.models.load_model`. If renaming is not possible, pass the object in the `custom_objects` parameter of the load function.\n"
          ]
        },
        {
          "output_type": "stream",
          "name": "stdout",
          "text": [
            "INFO:tensorflow:Assets written to: model_experiments/model_5_lstm/assets\n"
          ]
        },
        {
          "output_type": "stream",
          "name": "stderr",
          "text": [
            "INFO:tensorflow:Assets written to: model_experiments/model_5_lstm/assets\n",
            "WARNING:absl:<keras.layers.recurrent.LSTMCell object at 0x7f6be2fc4f10> has the same name 'LSTMCell' as a built-in Keras object. Consider renaming <class 'keras.layers.recurrent.LSTMCell'> to avoid naming conflicts when loading with `tf.keras.models.load_model`. If renaming is not possible, pass the object in the `custom_objects` parameter of the load function.\n"
          ]
        },
        {
          "output_type": "stream",
          "name": "stdout",
          "text": [
            "INFO:tensorflow:Assets written to: model_experiments/model_5_lstm/assets\n"
          ]
        },
        {
          "output_type": "stream",
          "name": "stderr",
          "text": [
            "INFO:tensorflow:Assets written to: model_experiments/model_5_lstm/assets\n",
            "WARNING:absl:<keras.layers.recurrent.LSTMCell object at 0x7f6be2fc4f10> has the same name 'LSTMCell' as a built-in Keras object. Consider renaming <class 'keras.layers.recurrent.LSTMCell'> to avoid naming conflicts when loading with `tf.keras.models.load_model`. If renaming is not possible, pass the object in the `custom_objects` parameter of the load function.\n"
          ]
        },
        {
          "output_type": "stream",
          "name": "stdout",
          "text": [
            "INFO:tensorflow:Assets written to: model_experiments/model_5_lstm/assets\n"
          ]
        },
        {
          "output_type": "stream",
          "name": "stderr",
          "text": [
            "INFO:tensorflow:Assets written to: model_experiments/model_5_lstm/assets\n",
            "WARNING:absl:<keras.layers.recurrent.LSTMCell object at 0x7f6be2fc4f10> has the same name 'LSTMCell' as a built-in Keras object. Consider renaming <class 'keras.layers.recurrent.LSTMCell'> to avoid naming conflicts when loading with `tf.keras.models.load_model`. If renaming is not possible, pass the object in the `custom_objects` parameter of the load function.\n"
          ]
        },
        {
          "output_type": "stream",
          "name": "stdout",
          "text": [
            "INFO:tensorflow:Assets written to: model_experiments/model_5_lstm/assets\n"
          ]
        },
        {
          "output_type": "stream",
          "name": "stderr",
          "text": [
            "INFO:tensorflow:Assets written to: model_experiments/model_5_lstm/assets\n",
            "WARNING:absl:<keras.layers.recurrent.LSTMCell object at 0x7f6be2fc4f10> has the same name 'LSTMCell' as a built-in Keras object. Consider renaming <class 'keras.layers.recurrent.LSTMCell'> to avoid naming conflicts when loading with `tf.keras.models.load_model`. If renaming is not possible, pass the object in the `custom_objects` parameter of the load function.\n"
          ]
        },
        {
          "output_type": "stream",
          "name": "stdout",
          "text": [
            "INFO:tensorflow:Assets written to: model_experiments/model_5_lstm/assets\n"
          ]
        },
        {
          "output_type": "stream",
          "name": "stderr",
          "text": [
            "INFO:tensorflow:Assets written to: model_experiments/model_5_lstm/assets\n",
            "WARNING:absl:<keras.layers.recurrent.LSTMCell object at 0x7f6be2fc4f10> has the same name 'LSTMCell' as a built-in Keras object. Consider renaming <class 'keras.layers.recurrent.LSTMCell'> to avoid naming conflicts when loading with `tf.keras.models.load_model`. If renaming is not possible, pass the object in the `custom_objects` parameter of the load function.\n"
          ]
        },
        {
          "output_type": "stream",
          "name": "stdout",
          "text": [
            "INFO:tensorflow:Assets written to: model_experiments/model_5_lstm/assets\n"
          ]
        },
        {
          "output_type": "stream",
          "name": "stderr",
          "text": [
            "INFO:tensorflow:Assets written to: model_experiments/model_5_lstm/assets\n",
            "WARNING:absl:<keras.layers.recurrent.LSTMCell object at 0x7f6be2fc4f10> has the same name 'LSTMCell' as a built-in Keras object. Consider renaming <class 'keras.layers.recurrent.LSTMCell'> to avoid naming conflicts when loading with `tf.keras.models.load_model`. If renaming is not possible, pass the object in the `custom_objects` parameter of the load function.\n"
          ]
        },
        {
          "output_type": "stream",
          "name": "stdout",
          "text": [
            "INFO:tensorflow:Assets written to: model_experiments/model_5_lstm/assets\n"
          ]
        },
        {
          "output_type": "stream",
          "name": "stderr",
          "text": [
            "INFO:tensorflow:Assets written to: model_experiments/model_5_lstm/assets\n",
            "WARNING:absl:<keras.layers.recurrent.LSTMCell object at 0x7f6be2fc4f10> has the same name 'LSTMCell' as a built-in Keras object. Consider renaming <class 'keras.layers.recurrent.LSTMCell'> to avoid naming conflicts when loading with `tf.keras.models.load_model`. If renaming is not possible, pass the object in the `custom_objects` parameter of the load function.\n"
          ]
        },
        {
          "output_type": "stream",
          "name": "stdout",
          "text": [
            "INFO:tensorflow:Assets written to: model_experiments/model_5_lstm/assets\n"
          ]
        },
        {
          "output_type": "stream",
          "name": "stderr",
          "text": [
            "INFO:tensorflow:Assets written to: model_experiments/model_5_lstm/assets\n",
            "WARNING:absl:<keras.layers.recurrent.LSTMCell object at 0x7f6be2fc4f10> has the same name 'LSTMCell' as a built-in Keras object. Consider renaming <class 'keras.layers.recurrent.LSTMCell'> to avoid naming conflicts when loading with `tf.keras.models.load_model`. If renaming is not possible, pass the object in the `custom_objects` parameter of the load function.\n"
          ]
        },
        {
          "output_type": "stream",
          "name": "stdout",
          "text": [
            "INFO:tensorflow:Assets written to: model_experiments/model_5_lstm/assets\n"
          ]
        },
        {
          "output_type": "stream",
          "name": "stderr",
          "text": [
            "INFO:tensorflow:Assets written to: model_experiments/model_5_lstm/assets\n",
            "WARNING:absl:<keras.layers.recurrent.LSTMCell object at 0x7f6be2fc4f10> has the same name 'LSTMCell' as a built-in Keras object. Consider renaming <class 'keras.layers.recurrent.LSTMCell'> to avoid naming conflicts when loading with `tf.keras.models.load_model`. If renaming is not possible, pass the object in the `custom_objects` parameter of the load function.\n"
          ]
        },
        {
          "output_type": "execute_result",
          "data": {
            "text/plain": [
              "<keras.callbacks.History at 0x7f6be32705d0>"
            ]
          },
          "metadata": {},
          "execution_count": 42
        }
      ]
    },
    {
      "cell_type": "code",
      "metadata": {
        "colab": {
          "base_uri": "https://localhost:8080/"
        },
        "id": "WiATrBrRDCGk",
        "outputId": "1b93c4f3-2eea-4588-b195-25d5d2141656"
      },
      "source": [
        "# Load in best version of model 5 and evaluate on the test data\n",
        "model_5 = tf.keras.models.load_model(\"model_experiments/model_5_lstm/\")\n",
        "model_5.evaluate(test_windows, test_labels)"
      ],
      "execution_count": 43,
      "outputs": [
        {
          "output_type": "stream",
          "name": "stdout",
          "text": [
            "16/16 [==============================] - 0s 2ms/step - loss: 2102.5100\n"
          ]
        },
        {
          "output_type": "execute_result",
          "data": {
            "text/plain": [
              "2102.510009765625"
            ]
          },
          "metadata": {},
          "execution_count": 43
        }
      ]
    },
    {
      "cell_type": "code",
      "metadata": {
        "id": "2ztB6TKqDiiT"
      },
      "source": [
        "# Make predictions with our LSTM model\n",
        "model_5_preds = make_preds(model_5, test_windows)"
      ],
      "execution_count": 44,
      "outputs": []
    },
    {
      "cell_type": "code",
      "metadata": {
        "colab": {
          "base_uri": "https://localhost:8080/"
        },
        "id": "lSsD_6BIDjhR",
        "outputId": "3a57fb86-2d02-4649-be1e-5398b9a0622f"
      },
      "source": [
        "# Evaluate model 5 preds\n",
        "model_5_results = evaluate_preds(y_true=tf.squeeze(test_labels),\n",
        "                                 y_pred=model_5_preds)\n",
        "model_5_results"
      ],
      "execution_count": 45,
      "outputs": [
        {
          "output_type": "execute_result",
          "data": {
            "text/plain": [
              "{'mae': 2102.5098,\n",
              " 'mape': 5.8043227,\n",
              " 'mase': 2.224535,\n",
              " 'mse': 10459759.0,\n",
              " 'rmse': 2385.1047}"
            ]
          },
          "metadata": {},
          "execution_count": 45
        }
      ]
    },
    {
      "cell_type": "markdown",
      "metadata": {
        "id": "7naQBIuaYHxe"
      },
      "source": [
        "Model 5: RNN (LSTM)"
      ]
    },
    {
      "cell_type": "code",
      "metadata": {
        "id": "Zm6aTJRQDleZ",
        "colab": {
          "base_uri": "https://localhost:8080/"
        },
        "outputId": "127678a5-8352-4c49-8b24-ae34deba158f"
      },
      "source": [
        "tf.random.set_seed(42)\n",
        "\n",
        "# Let's build an LSTM model with the Functional API\n",
        "inputs = layers.Input(shape=(WINDOW_SIZE))\n",
        "x = layers.Lambda(lambda x: tf.expand_dims(x, axis=1))(inputs) # expand input dimension to be compatible with LSTM\n",
        "# print(x.shape)\n",
        "# x = layers.LSTM(128, activation=\"relu\", return_sequences=True)(x) # this layer will error if the inputs are not the right shape\n",
        "x = layers.LSTM(128, activation=\"relu\")(x) # using the tanh loss function results in a massive error\n",
        "# print(x.shape)\n",
        "# Add another optional dense layer (you could add more of these to see if they improve model performance)\n",
        "# x = layers.Dense(32, activation=\"relu\")(x)\n",
        "output = layers.Dense(HORIZON)(x)\n",
        "model_5 = tf.keras.Model(inputs=inputs, outputs=output, name=\"model_5_lstm\")\n",
        "\n",
        "# Compile model\n",
        "model_5.compile(loss=\"mae\",\n",
        "                optimizer=tf.keras.optimizers.Adam())\n",
        "\n",
        "# Seems when saving the model several warnings are appearing: https://github.com/tensorflow/tensorflow/issues/47554 \n",
        "model_5.fit(train_windows,\n",
        "            train_labels,\n",
        "            epochs=100,\n",
        "            verbose=0,\n",
        "            batch_size=128,\n",
        "            validation_data=(test_windows, test_labels),\n",
        "            callbacks=[create_model_checkpoint(model_name=model_5.name)])"
      ],
      "execution_count": 46,
      "outputs": [
        {
          "output_type": "stream",
          "name": "stdout",
          "text": [
            "INFO:tensorflow:Assets written to: model_experiments/model_5_lstm/assets\n"
          ]
        },
        {
          "output_type": "stream",
          "name": "stderr",
          "text": [
            "INFO:tensorflow:Assets written to: model_experiments/model_5_lstm/assets\n",
            "WARNING:absl:<keras.layers.recurrent.LSTMCell object at 0x7f6beab9fed0> has the same name 'LSTMCell' as a built-in Keras object. Consider renaming <class 'keras.layers.recurrent.LSTMCell'> to avoid naming conflicts when loading with `tf.keras.models.load_model`. If renaming is not possible, pass the object in the `custom_objects` parameter of the load function.\n"
          ]
        },
        {
          "output_type": "stream",
          "name": "stdout",
          "text": [
            "INFO:tensorflow:Assets written to: model_experiments/model_5_lstm/assets\n"
          ]
        },
        {
          "output_type": "stream",
          "name": "stderr",
          "text": [
            "INFO:tensorflow:Assets written to: model_experiments/model_5_lstm/assets\n",
            "WARNING:absl:<keras.layers.recurrent.LSTMCell object at 0x7f6beab9fed0> has the same name 'LSTMCell' as a built-in Keras object. Consider renaming <class 'keras.layers.recurrent.LSTMCell'> to avoid naming conflicts when loading with `tf.keras.models.load_model`. If renaming is not possible, pass the object in the `custom_objects` parameter of the load function.\n"
          ]
        },
        {
          "output_type": "stream",
          "name": "stdout",
          "text": [
            "INFO:tensorflow:Assets written to: model_experiments/model_5_lstm/assets\n"
          ]
        },
        {
          "output_type": "stream",
          "name": "stderr",
          "text": [
            "INFO:tensorflow:Assets written to: model_experiments/model_5_lstm/assets\n",
            "WARNING:absl:<keras.layers.recurrent.LSTMCell object at 0x7f6beab9fed0> has the same name 'LSTMCell' as a built-in Keras object. Consider renaming <class 'keras.layers.recurrent.LSTMCell'> to avoid naming conflicts when loading with `tf.keras.models.load_model`. If renaming is not possible, pass the object in the `custom_objects` parameter of the load function.\n"
          ]
        },
        {
          "output_type": "stream",
          "name": "stdout",
          "text": [
            "INFO:tensorflow:Assets written to: model_experiments/model_5_lstm/assets\n"
          ]
        },
        {
          "output_type": "stream",
          "name": "stderr",
          "text": [
            "INFO:tensorflow:Assets written to: model_experiments/model_5_lstm/assets\n",
            "WARNING:absl:<keras.layers.recurrent.LSTMCell object at 0x7f6beab9fed0> has the same name 'LSTMCell' as a built-in Keras object. Consider renaming <class 'keras.layers.recurrent.LSTMCell'> to avoid naming conflicts when loading with `tf.keras.models.load_model`. If renaming is not possible, pass the object in the `custom_objects` parameter of the load function.\n"
          ]
        },
        {
          "output_type": "stream",
          "name": "stdout",
          "text": [
            "INFO:tensorflow:Assets written to: model_experiments/model_5_lstm/assets\n"
          ]
        },
        {
          "output_type": "stream",
          "name": "stderr",
          "text": [
            "INFO:tensorflow:Assets written to: model_experiments/model_5_lstm/assets\n",
            "WARNING:absl:<keras.layers.recurrent.LSTMCell object at 0x7f6beab9fed0> has the same name 'LSTMCell' as a built-in Keras object. Consider renaming <class 'keras.layers.recurrent.LSTMCell'> to avoid naming conflicts when loading with `tf.keras.models.load_model`. If renaming is not possible, pass the object in the `custom_objects` parameter of the load function.\n"
          ]
        },
        {
          "output_type": "stream",
          "name": "stdout",
          "text": [
            "INFO:tensorflow:Assets written to: model_experiments/model_5_lstm/assets\n"
          ]
        },
        {
          "output_type": "stream",
          "name": "stderr",
          "text": [
            "INFO:tensorflow:Assets written to: model_experiments/model_5_lstm/assets\n",
            "WARNING:absl:<keras.layers.recurrent.LSTMCell object at 0x7f6beab9fed0> has the same name 'LSTMCell' as a built-in Keras object. Consider renaming <class 'keras.layers.recurrent.LSTMCell'> to avoid naming conflicts when loading with `tf.keras.models.load_model`. If renaming is not possible, pass the object in the `custom_objects` parameter of the load function.\n"
          ]
        },
        {
          "output_type": "stream",
          "name": "stdout",
          "text": [
            "INFO:tensorflow:Assets written to: model_experiments/model_5_lstm/assets\n"
          ]
        },
        {
          "output_type": "stream",
          "name": "stderr",
          "text": [
            "INFO:tensorflow:Assets written to: model_experiments/model_5_lstm/assets\n",
            "WARNING:absl:<keras.layers.recurrent.LSTMCell object at 0x7f6beab9fed0> has the same name 'LSTMCell' as a built-in Keras object. Consider renaming <class 'keras.layers.recurrent.LSTMCell'> to avoid naming conflicts when loading with `tf.keras.models.load_model`. If renaming is not possible, pass the object in the `custom_objects` parameter of the load function.\n"
          ]
        },
        {
          "output_type": "stream",
          "name": "stdout",
          "text": [
            "INFO:tensorflow:Assets written to: model_experiments/model_5_lstm/assets\n"
          ]
        },
        {
          "output_type": "stream",
          "name": "stderr",
          "text": [
            "INFO:tensorflow:Assets written to: model_experiments/model_5_lstm/assets\n",
            "WARNING:absl:<keras.layers.recurrent.LSTMCell object at 0x7f6beab9fed0> has the same name 'LSTMCell' as a built-in Keras object. Consider renaming <class 'keras.layers.recurrent.LSTMCell'> to avoid naming conflicts when loading with `tf.keras.models.load_model`. If renaming is not possible, pass the object in the `custom_objects` parameter of the load function.\n"
          ]
        },
        {
          "output_type": "stream",
          "name": "stdout",
          "text": [
            "INFO:tensorflow:Assets written to: model_experiments/model_5_lstm/assets\n"
          ]
        },
        {
          "output_type": "stream",
          "name": "stderr",
          "text": [
            "INFO:tensorflow:Assets written to: model_experiments/model_5_lstm/assets\n",
            "WARNING:absl:<keras.layers.recurrent.LSTMCell object at 0x7f6beab9fed0> has the same name 'LSTMCell' as a built-in Keras object. Consider renaming <class 'keras.layers.recurrent.LSTMCell'> to avoid naming conflicts when loading with `tf.keras.models.load_model`. If renaming is not possible, pass the object in the `custom_objects` parameter of the load function.\n"
          ]
        },
        {
          "output_type": "stream",
          "name": "stdout",
          "text": [
            "INFO:tensorflow:Assets written to: model_experiments/model_5_lstm/assets\n"
          ]
        },
        {
          "output_type": "stream",
          "name": "stderr",
          "text": [
            "INFO:tensorflow:Assets written to: model_experiments/model_5_lstm/assets\n",
            "WARNING:absl:<keras.layers.recurrent.LSTMCell object at 0x7f6beab9fed0> has the same name 'LSTMCell' as a built-in Keras object. Consider renaming <class 'keras.layers.recurrent.LSTMCell'> to avoid naming conflicts when loading with `tf.keras.models.load_model`. If renaming is not possible, pass the object in the `custom_objects` parameter of the load function.\n"
          ]
        },
        {
          "output_type": "stream",
          "name": "stdout",
          "text": [
            "INFO:tensorflow:Assets written to: model_experiments/model_5_lstm/assets\n"
          ]
        },
        {
          "output_type": "stream",
          "name": "stderr",
          "text": [
            "INFO:tensorflow:Assets written to: model_experiments/model_5_lstm/assets\n",
            "WARNING:absl:<keras.layers.recurrent.LSTMCell object at 0x7f6beab9fed0> has the same name 'LSTMCell' as a built-in Keras object. Consider renaming <class 'keras.layers.recurrent.LSTMCell'> to avoid naming conflicts when loading with `tf.keras.models.load_model`. If renaming is not possible, pass the object in the `custom_objects` parameter of the load function.\n"
          ]
        },
        {
          "output_type": "stream",
          "name": "stdout",
          "text": [
            "INFO:tensorflow:Assets written to: model_experiments/model_5_lstm/assets\n"
          ]
        },
        {
          "output_type": "stream",
          "name": "stderr",
          "text": [
            "INFO:tensorflow:Assets written to: model_experiments/model_5_lstm/assets\n",
            "WARNING:absl:<keras.layers.recurrent.LSTMCell object at 0x7f6beab9fed0> has the same name 'LSTMCell' as a built-in Keras object. Consider renaming <class 'keras.layers.recurrent.LSTMCell'> to avoid naming conflicts when loading with `tf.keras.models.load_model`. If renaming is not possible, pass the object in the `custom_objects` parameter of the load function.\n"
          ]
        },
        {
          "output_type": "stream",
          "name": "stdout",
          "text": [
            "INFO:tensorflow:Assets written to: model_experiments/model_5_lstm/assets\n"
          ]
        },
        {
          "output_type": "stream",
          "name": "stderr",
          "text": [
            "INFO:tensorflow:Assets written to: model_experiments/model_5_lstm/assets\n",
            "WARNING:absl:<keras.layers.recurrent.LSTMCell object at 0x7f6beab9fed0> has the same name 'LSTMCell' as a built-in Keras object. Consider renaming <class 'keras.layers.recurrent.LSTMCell'> to avoid naming conflicts when loading with `tf.keras.models.load_model`. If renaming is not possible, pass the object in the `custom_objects` parameter of the load function.\n"
          ]
        },
        {
          "output_type": "stream",
          "name": "stdout",
          "text": [
            "INFO:tensorflow:Assets written to: model_experiments/model_5_lstm/assets\n"
          ]
        },
        {
          "output_type": "stream",
          "name": "stderr",
          "text": [
            "INFO:tensorflow:Assets written to: model_experiments/model_5_lstm/assets\n",
            "WARNING:absl:<keras.layers.recurrent.LSTMCell object at 0x7f6beab9fed0> has the same name 'LSTMCell' as a built-in Keras object. Consider renaming <class 'keras.layers.recurrent.LSTMCell'> to avoid naming conflicts when loading with `tf.keras.models.load_model`. If renaming is not possible, pass the object in the `custom_objects` parameter of the load function.\n"
          ]
        },
        {
          "output_type": "stream",
          "name": "stdout",
          "text": [
            "INFO:tensorflow:Assets written to: model_experiments/model_5_lstm/assets\n"
          ]
        },
        {
          "output_type": "stream",
          "name": "stderr",
          "text": [
            "INFO:tensorflow:Assets written to: model_experiments/model_5_lstm/assets\n",
            "WARNING:absl:<keras.layers.recurrent.LSTMCell object at 0x7f6beab9fed0> has the same name 'LSTMCell' as a built-in Keras object. Consider renaming <class 'keras.layers.recurrent.LSTMCell'> to avoid naming conflicts when loading with `tf.keras.models.load_model`. If renaming is not possible, pass the object in the `custom_objects` parameter of the load function.\n"
          ]
        },
        {
          "output_type": "stream",
          "name": "stdout",
          "text": [
            "INFO:tensorflow:Assets written to: model_experiments/model_5_lstm/assets\n"
          ]
        },
        {
          "output_type": "stream",
          "name": "stderr",
          "text": [
            "INFO:tensorflow:Assets written to: model_experiments/model_5_lstm/assets\n",
            "WARNING:absl:<keras.layers.recurrent.LSTMCell object at 0x7f6beab9fed0> has the same name 'LSTMCell' as a built-in Keras object. Consider renaming <class 'keras.layers.recurrent.LSTMCell'> to avoid naming conflicts when loading with `tf.keras.models.load_model`. If renaming is not possible, pass the object in the `custom_objects` parameter of the load function.\n"
          ]
        },
        {
          "output_type": "stream",
          "name": "stdout",
          "text": [
            "INFO:tensorflow:Assets written to: model_experiments/model_5_lstm/assets\n"
          ]
        },
        {
          "output_type": "stream",
          "name": "stderr",
          "text": [
            "INFO:tensorflow:Assets written to: model_experiments/model_5_lstm/assets\n",
            "WARNING:absl:<keras.layers.recurrent.LSTMCell object at 0x7f6beab9fed0> has the same name 'LSTMCell' as a built-in Keras object. Consider renaming <class 'keras.layers.recurrent.LSTMCell'> to avoid naming conflicts when loading with `tf.keras.models.load_model`. If renaming is not possible, pass the object in the `custom_objects` parameter of the load function.\n"
          ]
        },
        {
          "output_type": "stream",
          "name": "stdout",
          "text": [
            "INFO:tensorflow:Assets written to: model_experiments/model_5_lstm/assets\n"
          ]
        },
        {
          "output_type": "stream",
          "name": "stderr",
          "text": [
            "INFO:tensorflow:Assets written to: model_experiments/model_5_lstm/assets\n",
            "WARNING:absl:<keras.layers.recurrent.LSTMCell object at 0x7f6beab9fed0> has the same name 'LSTMCell' as a built-in Keras object. Consider renaming <class 'keras.layers.recurrent.LSTMCell'> to avoid naming conflicts when loading with `tf.keras.models.load_model`. If renaming is not possible, pass the object in the `custom_objects` parameter of the load function.\n"
          ]
        },
        {
          "output_type": "stream",
          "name": "stdout",
          "text": [
            "INFO:tensorflow:Assets written to: model_experiments/model_5_lstm/assets\n"
          ]
        },
        {
          "output_type": "stream",
          "name": "stderr",
          "text": [
            "INFO:tensorflow:Assets written to: model_experiments/model_5_lstm/assets\n",
            "WARNING:absl:<keras.layers.recurrent.LSTMCell object at 0x7f6beab9fed0> has the same name 'LSTMCell' as a built-in Keras object. Consider renaming <class 'keras.layers.recurrent.LSTMCell'> to avoid naming conflicts when loading with `tf.keras.models.load_model`. If renaming is not possible, pass the object in the `custom_objects` parameter of the load function.\n"
          ]
        },
        {
          "output_type": "stream",
          "name": "stdout",
          "text": [
            "INFO:tensorflow:Assets written to: model_experiments/model_5_lstm/assets\n"
          ]
        },
        {
          "output_type": "stream",
          "name": "stderr",
          "text": [
            "INFO:tensorflow:Assets written to: model_experiments/model_5_lstm/assets\n",
            "WARNING:absl:<keras.layers.recurrent.LSTMCell object at 0x7f6beab9fed0> has the same name 'LSTMCell' as a built-in Keras object. Consider renaming <class 'keras.layers.recurrent.LSTMCell'> to avoid naming conflicts when loading with `tf.keras.models.load_model`. If renaming is not possible, pass the object in the `custom_objects` parameter of the load function.\n"
          ]
        },
        {
          "output_type": "stream",
          "name": "stdout",
          "text": [
            "INFO:tensorflow:Assets written to: model_experiments/model_5_lstm/assets\n"
          ]
        },
        {
          "output_type": "stream",
          "name": "stderr",
          "text": [
            "INFO:tensorflow:Assets written to: model_experiments/model_5_lstm/assets\n",
            "WARNING:absl:<keras.layers.recurrent.LSTMCell object at 0x7f6beab9fed0> has the same name 'LSTMCell' as a built-in Keras object. Consider renaming <class 'keras.layers.recurrent.LSTMCell'> to avoid naming conflicts when loading with `tf.keras.models.load_model`. If renaming is not possible, pass the object in the `custom_objects` parameter of the load function.\n"
          ]
        },
        {
          "output_type": "stream",
          "name": "stdout",
          "text": [
            "INFO:tensorflow:Assets written to: model_experiments/model_5_lstm/assets\n"
          ]
        },
        {
          "output_type": "stream",
          "name": "stderr",
          "text": [
            "INFO:tensorflow:Assets written to: model_experiments/model_5_lstm/assets\n",
            "WARNING:absl:<keras.layers.recurrent.LSTMCell object at 0x7f6beab9fed0> has the same name 'LSTMCell' as a built-in Keras object. Consider renaming <class 'keras.layers.recurrent.LSTMCell'> to avoid naming conflicts when loading with `tf.keras.models.load_model`. If renaming is not possible, pass the object in the `custom_objects` parameter of the load function.\n"
          ]
        },
        {
          "output_type": "stream",
          "name": "stdout",
          "text": [
            "INFO:tensorflow:Assets written to: model_experiments/model_5_lstm/assets\n"
          ]
        },
        {
          "output_type": "stream",
          "name": "stderr",
          "text": [
            "INFO:tensorflow:Assets written to: model_experiments/model_5_lstm/assets\n",
            "WARNING:absl:<keras.layers.recurrent.LSTMCell object at 0x7f6beab9fed0> has the same name 'LSTMCell' as a built-in Keras object. Consider renaming <class 'keras.layers.recurrent.LSTMCell'> to avoid naming conflicts when loading with `tf.keras.models.load_model`. If renaming is not possible, pass the object in the `custom_objects` parameter of the load function.\n"
          ]
        },
        {
          "output_type": "stream",
          "name": "stdout",
          "text": [
            "INFO:tensorflow:Assets written to: model_experiments/model_5_lstm/assets\n"
          ]
        },
        {
          "output_type": "stream",
          "name": "stderr",
          "text": [
            "INFO:tensorflow:Assets written to: model_experiments/model_5_lstm/assets\n",
            "WARNING:absl:<keras.layers.recurrent.LSTMCell object at 0x7f6beab9fed0> has the same name 'LSTMCell' as a built-in Keras object. Consider renaming <class 'keras.layers.recurrent.LSTMCell'> to avoid naming conflicts when loading with `tf.keras.models.load_model`. If renaming is not possible, pass the object in the `custom_objects` parameter of the load function.\n"
          ]
        },
        {
          "output_type": "stream",
          "name": "stdout",
          "text": [
            "INFO:tensorflow:Assets written to: model_experiments/model_5_lstm/assets\n"
          ]
        },
        {
          "output_type": "stream",
          "name": "stderr",
          "text": [
            "INFO:tensorflow:Assets written to: model_experiments/model_5_lstm/assets\n",
            "WARNING:absl:<keras.layers.recurrent.LSTMCell object at 0x7f6beab9fed0> has the same name 'LSTMCell' as a built-in Keras object. Consider renaming <class 'keras.layers.recurrent.LSTMCell'> to avoid naming conflicts when loading with `tf.keras.models.load_model`. If renaming is not possible, pass the object in the `custom_objects` parameter of the load function.\n"
          ]
        },
        {
          "output_type": "stream",
          "name": "stdout",
          "text": [
            "INFO:tensorflow:Assets written to: model_experiments/model_5_lstm/assets\n"
          ]
        },
        {
          "output_type": "stream",
          "name": "stderr",
          "text": [
            "INFO:tensorflow:Assets written to: model_experiments/model_5_lstm/assets\n",
            "WARNING:absl:<keras.layers.recurrent.LSTMCell object at 0x7f6beab9fed0> has the same name 'LSTMCell' as a built-in Keras object. Consider renaming <class 'keras.layers.recurrent.LSTMCell'> to avoid naming conflicts when loading with `tf.keras.models.load_model`. If renaming is not possible, pass the object in the `custom_objects` parameter of the load function.\n"
          ]
        },
        {
          "output_type": "stream",
          "name": "stdout",
          "text": [
            "INFO:tensorflow:Assets written to: model_experiments/model_5_lstm/assets\n"
          ]
        },
        {
          "output_type": "stream",
          "name": "stderr",
          "text": [
            "INFO:tensorflow:Assets written to: model_experiments/model_5_lstm/assets\n",
            "WARNING:absl:<keras.layers.recurrent.LSTMCell object at 0x7f6beab9fed0> has the same name 'LSTMCell' as a built-in Keras object. Consider renaming <class 'keras.layers.recurrent.LSTMCell'> to avoid naming conflicts when loading with `tf.keras.models.load_model`. If renaming is not possible, pass the object in the `custom_objects` parameter of the load function.\n"
          ]
        },
        {
          "output_type": "stream",
          "name": "stdout",
          "text": [
            "INFO:tensorflow:Assets written to: model_experiments/model_5_lstm/assets\n"
          ]
        },
        {
          "output_type": "stream",
          "name": "stderr",
          "text": [
            "INFO:tensorflow:Assets written to: model_experiments/model_5_lstm/assets\n",
            "WARNING:absl:<keras.layers.recurrent.LSTMCell object at 0x7f6beab9fed0> has the same name 'LSTMCell' as a built-in Keras object. Consider renaming <class 'keras.layers.recurrent.LSTMCell'> to avoid naming conflicts when loading with `tf.keras.models.load_model`. If renaming is not possible, pass the object in the `custom_objects` parameter of the load function.\n"
          ]
        },
        {
          "output_type": "stream",
          "name": "stdout",
          "text": [
            "INFO:tensorflow:Assets written to: model_experiments/model_5_lstm/assets\n"
          ]
        },
        {
          "output_type": "stream",
          "name": "stderr",
          "text": [
            "INFO:tensorflow:Assets written to: model_experiments/model_5_lstm/assets\n",
            "WARNING:absl:<keras.layers.recurrent.LSTMCell object at 0x7f6beab9fed0> has the same name 'LSTMCell' as a built-in Keras object. Consider renaming <class 'keras.layers.recurrent.LSTMCell'> to avoid naming conflicts when loading with `tf.keras.models.load_model`. If renaming is not possible, pass the object in the `custom_objects` parameter of the load function.\n"
          ]
        },
        {
          "output_type": "stream",
          "name": "stdout",
          "text": [
            "INFO:tensorflow:Assets written to: model_experiments/model_5_lstm/assets\n"
          ]
        },
        {
          "output_type": "stream",
          "name": "stderr",
          "text": [
            "INFO:tensorflow:Assets written to: model_experiments/model_5_lstm/assets\n",
            "WARNING:absl:<keras.layers.recurrent.LSTMCell object at 0x7f6beab9fed0> has the same name 'LSTMCell' as a built-in Keras object. Consider renaming <class 'keras.layers.recurrent.LSTMCell'> to avoid naming conflicts when loading with `tf.keras.models.load_model`. If renaming is not possible, pass the object in the `custom_objects` parameter of the load function.\n"
          ]
        },
        {
          "output_type": "stream",
          "name": "stdout",
          "text": [
            "INFO:tensorflow:Assets written to: model_experiments/model_5_lstm/assets\n"
          ]
        },
        {
          "output_type": "stream",
          "name": "stderr",
          "text": [
            "INFO:tensorflow:Assets written to: model_experiments/model_5_lstm/assets\n",
            "WARNING:absl:<keras.layers.recurrent.LSTMCell object at 0x7f6beab9fed0> has the same name 'LSTMCell' as a built-in Keras object. Consider renaming <class 'keras.layers.recurrent.LSTMCell'> to avoid naming conflicts when loading with `tf.keras.models.load_model`. If renaming is not possible, pass the object in the `custom_objects` parameter of the load function.\n"
          ]
        },
        {
          "output_type": "stream",
          "name": "stdout",
          "text": [
            "INFO:tensorflow:Assets written to: model_experiments/model_5_lstm/assets\n"
          ]
        },
        {
          "output_type": "stream",
          "name": "stderr",
          "text": [
            "INFO:tensorflow:Assets written to: model_experiments/model_5_lstm/assets\n",
            "WARNING:absl:<keras.layers.recurrent.LSTMCell object at 0x7f6beab9fed0> has the same name 'LSTMCell' as a built-in Keras object. Consider renaming <class 'keras.layers.recurrent.LSTMCell'> to avoid naming conflicts when loading with `tf.keras.models.load_model`. If renaming is not possible, pass the object in the `custom_objects` parameter of the load function.\n"
          ]
        },
        {
          "output_type": "stream",
          "name": "stdout",
          "text": [
            "INFO:tensorflow:Assets written to: model_experiments/model_5_lstm/assets\n"
          ]
        },
        {
          "output_type": "stream",
          "name": "stderr",
          "text": [
            "INFO:tensorflow:Assets written to: model_experiments/model_5_lstm/assets\n",
            "WARNING:absl:<keras.layers.recurrent.LSTMCell object at 0x7f6beab9fed0> has the same name 'LSTMCell' as a built-in Keras object. Consider renaming <class 'keras.layers.recurrent.LSTMCell'> to avoid naming conflicts when loading with `tf.keras.models.load_model`. If renaming is not possible, pass the object in the `custom_objects` parameter of the load function.\n"
          ]
        },
        {
          "output_type": "stream",
          "name": "stdout",
          "text": [
            "INFO:tensorflow:Assets written to: model_experiments/model_5_lstm/assets\n"
          ]
        },
        {
          "output_type": "stream",
          "name": "stderr",
          "text": [
            "INFO:tensorflow:Assets written to: model_experiments/model_5_lstm/assets\n",
            "WARNING:absl:<keras.layers.recurrent.LSTMCell object at 0x7f6beab9fed0> has the same name 'LSTMCell' as a built-in Keras object. Consider renaming <class 'keras.layers.recurrent.LSTMCell'> to avoid naming conflicts when loading with `tf.keras.models.load_model`. If renaming is not possible, pass the object in the `custom_objects` parameter of the load function.\n"
          ]
        },
        {
          "output_type": "stream",
          "name": "stdout",
          "text": [
            "INFO:tensorflow:Assets written to: model_experiments/model_5_lstm/assets\n"
          ]
        },
        {
          "output_type": "stream",
          "name": "stderr",
          "text": [
            "INFO:tensorflow:Assets written to: model_experiments/model_5_lstm/assets\n",
            "WARNING:absl:<keras.layers.recurrent.LSTMCell object at 0x7f6beab9fed0> has the same name 'LSTMCell' as a built-in Keras object. Consider renaming <class 'keras.layers.recurrent.LSTMCell'> to avoid naming conflicts when loading with `tf.keras.models.load_model`. If renaming is not possible, pass the object in the `custom_objects` parameter of the load function.\n"
          ]
        },
        {
          "output_type": "stream",
          "name": "stdout",
          "text": [
            "INFO:tensorflow:Assets written to: model_experiments/model_5_lstm/assets\n"
          ]
        },
        {
          "output_type": "stream",
          "name": "stderr",
          "text": [
            "INFO:tensorflow:Assets written to: model_experiments/model_5_lstm/assets\n",
            "WARNING:absl:<keras.layers.recurrent.LSTMCell object at 0x7f6beab9fed0> has the same name 'LSTMCell' as a built-in Keras object. Consider renaming <class 'keras.layers.recurrent.LSTMCell'> to avoid naming conflicts when loading with `tf.keras.models.load_model`. If renaming is not possible, pass the object in the `custom_objects` parameter of the load function.\n"
          ]
        },
        {
          "output_type": "stream",
          "name": "stdout",
          "text": [
            "INFO:tensorflow:Assets written to: model_experiments/model_5_lstm/assets\n"
          ]
        },
        {
          "output_type": "stream",
          "name": "stderr",
          "text": [
            "INFO:tensorflow:Assets written to: model_experiments/model_5_lstm/assets\n",
            "WARNING:absl:<keras.layers.recurrent.LSTMCell object at 0x7f6beab9fed0> has the same name 'LSTMCell' as a built-in Keras object. Consider renaming <class 'keras.layers.recurrent.LSTMCell'> to avoid naming conflicts when loading with `tf.keras.models.load_model`. If renaming is not possible, pass the object in the `custom_objects` parameter of the load function.\n"
          ]
        },
        {
          "output_type": "stream",
          "name": "stdout",
          "text": [
            "INFO:tensorflow:Assets written to: model_experiments/model_5_lstm/assets\n"
          ]
        },
        {
          "output_type": "stream",
          "name": "stderr",
          "text": [
            "INFO:tensorflow:Assets written to: model_experiments/model_5_lstm/assets\n",
            "WARNING:absl:<keras.layers.recurrent.LSTMCell object at 0x7f6beab9fed0> has the same name 'LSTMCell' as a built-in Keras object. Consider renaming <class 'keras.layers.recurrent.LSTMCell'> to avoid naming conflicts when loading with `tf.keras.models.load_model`. If renaming is not possible, pass the object in the `custom_objects` parameter of the load function.\n"
          ]
        },
        {
          "output_type": "stream",
          "name": "stdout",
          "text": [
            "INFO:tensorflow:Assets written to: model_experiments/model_5_lstm/assets\n"
          ]
        },
        {
          "output_type": "stream",
          "name": "stderr",
          "text": [
            "INFO:tensorflow:Assets written to: model_experiments/model_5_lstm/assets\n",
            "WARNING:absl:<keras.layers.recurrent.LSTMCell object at 0x7f6beab9fed0> has the same name 'LSTMCell' as a built-in Keras object. Consider renaming <class 'keras.layers.recurrent.LSTMCell'> to avoid naming conflicts when loading with `tf.keras.models.load_model`. If renaming is not possible, pass the object in the `custom_objects` parameter of the load function.\n"
          ]
        },
        {
          "output_type": "stream",
          "name": "stdout",
          "text": [
            "INFO:tensorflow:Assets written to: model_experiments/model_5_lstm/assets\n"
          ]
        },
        {
          "output_type": "stream",
          "name": "stderr",
          "text": [
            "INFO:tensorflow:Assets written to: model_experiments/model_5_lstm/assets\n",
            "WARNING:absl:<keras.layers.recurrent.LSTMCell object at 0x7f6beab9fed0> has the same name 'LSTMCell' as a built-in Keras object. Consider renaming <class 'keras.layers.recurrent.LSTMCell'> to avoid naming conflicts when loading with `tf.keras.models.load_model`. If renaming is not possible, pass the object in the `custom_objects` parameter of the load function.\n"
          ]
        },
        {
          "output_type": "stream",
          "name": "stdout",
          "text": [
            "INFO:tensorflow:Assets written to: model_experiments/model_5_lstm/assets\n"
          ]
        },
        {
          "output_type": "stream",
          "name": "stderr",
          "text": [
            "INFO:tensorflow:Assets written to: model_experiments/model_5_lstm/assets\n",
            "WARNING:absl:<keras.layers.recurrent.LSTMCell object at 0x7f6beab9fed0> has the same name 'LSTMCell' as a built-in Keras object. Consider renaming <class 'keras.layers.recurrent.LSTMCell'> to avoid naming conflicts when loading with `tf.keras.models.load_model`. If renaming is not possible, pass the object in the `custom_objects` parameter of the load function.\n"
          ]
        },
        {
          "output_type": "stream",
          "name": "stdout",
          "text": [
            "INFO:tensorflow:Assets written to: model_experiments/model_5_lstm/assets\n"
          ]
        },
        {
          "output_type": "stream",
          "name": "stderr",
          "text": [
            "INFO:tensorflow:Assets written to: model_experiments/model_5_lstm/assets\n",
            "WARNING:absl:<keras.layers.recurrent.LSTMCell object at 0x7f6beab9fed0> has the same name 'LSTMCell' as a built-in Keras object. Consider renaming <class 'keras.layers.recurrent.LSTMCell'> to avoid naming conflicts when loading with `tf.keras.models.load_model`. If renaming is not possible, pass the object in the `custom_objects` parameter of the load function.\n"
          ]
        },
        {
          "output_type": "stream",
          "name": "stdout",
          "text": [
            "INFO:tensorflow:Assets written to: model_experiments/model_5_lstm/assets\n"
          ]
        },
        {
          "output_type": "stream",
          "name": "stderr",
          "text": [
            "INFO:tensorflow:Assets written to: model_experiments/model_5_lstm/assets\n",
            "WARNING:absl:<keras.layers.recurrent.LSTMCell object at 0x7f6beab9fed0> has the same name 'LSTMCell' as a built-in Keras object. Consider renaming <class 'keras.layers.recurrent.LSTMCell'> to avoid naming conflicts when loading with `tf.keras.models.load_model`. If renaming is not possible, pass the object in the `custom_objects` parameter of the load function.\n"
          ]
        },
        {
          "output_type": "stream",
          "name": "stdout",
          "text": [
            "INFO:tensorflow:Assets written to: model_experiments/model_5_lstm/assets\n"
          ]
        },
        {
          "output_type": "stream",
          "name": "stderr",
          "text": [
            "INFO:tensorflow:Assets written to: model_experiments/model_5_lstm/assets\n",
            "WARNING:absl:<keras.layers.recurrent.LSTMCell object at 0x7f6beab9fed0> has the same name 'LSTMCell' as a built-in Keras object. Consider renaming <class 'keras.layers.recurrent.LSTMCell'> to avoid naming conflicts when loading with `tf.keras.models.load_model`. If renaming is not possible, pass the object in the `custom_objects` parameter of the load function.\n"
          ]
        },
        {
          "output_type": "stream",
          "name": "stdout",
          "text": [
            "INFO:tensorflow:Assets written to: model_experiments/model_5_lstm/assets\n"
          ]
        },
        {
          "output_type": "stream",
          "name": "stderr",
          "text": [
            "INFO:tensorflow:Assets written to: model_experiments/model_5_lstm/assets\n",
            "WARNING:absl:<keras.layers.recurrent.LSTMCell object at 0x7f6beab9fed0> has the same name 'LSTMCell' as a built-in Keras object. Consider renaming <class 'keras.layers.recurrent.LSTMCell'> to avoid naming conflicts when loading with `tf.keras.models.load_model`. If renaming is not possible, pass the object in the `custom_objects` parameter of the load function.\n"
          ]
        },
        {
          "output_type": "stream",
          "name": "stdout",
          "text": [
            "INFO:tensorflow:Assets written to: model_experiments/model_5_lstm/assets\n"
          ]
        },
        {
          "output_type": "stream",
          "name": "stderr",
          "text": [
            "INFO:tensorflow:Assets written to: model_experiments/model_5_lstm/assets\n",
            "WARNING:absl:<keras.layers.recurrent.LSTMCell object at 0x7f6beab9fed0> has the same name 'LSTMCell' as a built-in Keras object. Consider renaming <class 'keras.layers.recurrent.LSTMCell'> to avoid naming conflicts when loading with `tf.keras.models.load_model`. If renaming is not possible, pass the object in the `custom_objects` parameter of the load function.\n"
          ]
        },
        {
          "output_type": "stream",
          "name": "stdout",
          "text": [
            "INFO:tensorflow:Assets written to: model_experiments/model_5_lstm/assets\n"
          ]
        },
        {
          "output_type": "stream",
          "name": "stderr",
          "text": [
            "INFO:tensorflow:Assets written to: model_experiments/model_5_lstm/assets\n",
            "WARNING:absl:<keras.layers.recurrent.LSTMCell object at 0x7f6beab9fed0> has the same name 'LSTMCell' as a built-in Keras object. Consider renaming <class 'keras.layers.recurrent.LSTMCell'> to avoid naming conflicts when loading with `tf.keras.models.load_model`. If renaming is not possible, pass the object in the `custom_objects` parameter of the load function.\n"
          ]
        },
        {
          "output_type": "execute_result",
          "data": {
            "text/plain": [
              "<keras.callbacks.History at 0x7f6beb480690>"
            ]
          },
          "metadata": {},
          "execution_count": 46
        }
      ]
    },
    {
      "cell_type": "code",
      "metadata": {
        "colab": {
          "base_uri": "https://localhost:8080/"
        },
        "id": "vOVktQGOYXx9",
        "outputId": "4530be47-4492-4cd7-f9b1-71f51fc607b1"
      },
      "source": [
        "# Load in best version of model 5 and evaluate on the test data\n",
        "model_5 = tf.keras.models.load_model(\"model_experiments/model_5_lstm/\")\n",
        "model_5.evaluate(test_windows, test_labels)"
      ],
      "execution_count": 47,
      "outputs": [
        {
          "output_type": "stream",
          "name": "stdout",
          "text": [
            "16/16 [==============================] - 0s 2ms/step - loss: 2102.5100\n"
          ]
        },
        {
          "output_type": "execute_result",
          "data": {
            "text/plain": [
              "2102.510009765625"
            ]
          },
          "metadata": {},
          "execution_count": 47
        }
      ]
    },
    {
      "cell_type": "code",
      "metadata": {
        "id": "SCtMu9DlYZt0"
      },
      "source": [
        "# Make predictions with our LSTM model\n",
        "model_5_preds = make_preds(model_5, test_windows)"
      ],
      "execution_count": 49,
      "outputs": []
    },
    {
      "cell_type": "code",
      "metadata": {
        "colab": {
          "base_uri": "https://localhost:8080/"
        },
        "id": "oFCvFtC_YbMX",
        "outputId": "3e4dc280-5114-4281-adcf-b8716e7a9f9e"
      },
      "source": [
        "# Evaluate model 5 preds\n",
        "model_5_results = evaluate_preds(y_true=tf.squeeze(test_labels),\n",
        "                                 y_pred=model_5_preds)\n",
        "model_5_results"
      ],
      "execution_count": 50,
      "outputs": [
        {
          "output_type": "execute_result",
          "data": {
            "text/plain": [
              "{'mae': 2102.5098,\n",
              " 'mape': 5.8043227,\n",
              " 'mase': 2.224535,\n",
              " 'mse': 10459759.0,\n",
              " 'rmse': 2385.1047}"
            ]
          },
          "metadata": {},
          "execution_count": 50
        }
      ]
    },
    {
      "cell_type": "code",
      "metadata": {
        "colab": {
          "base_uri": "https://localhost:8080/",
          "height": 440
        },
        "id": "OA6qffDDaFmN",
        "outputId": "de840415-1a59-48c1-c4cd-2699684fe686"
      },
      "source": [
        "pd.DataFrame({\"naive\": naive_results[\"mae\"], \n",
        "              \"horizon_1_window_7\": model_1_results[\"mae\"], \n",
        "              \"horizon_1_window_30\": model_2_results[\"mae\"], \n",
        "              \"horizon_7_window_30\": model_3_results[\"mae\"],\n",
        "              \"LSTM\": model_5_results[\"mae\"]}, index=[\"mae\"]).plot(figsize=(10, 7), kind=\"bar\");"
      ],
      "execution_count": 52,
      "outputs": [
        {
          "output_type": "display_data",
          "data": {
            "image/png": "[encoded data removed]",
            "text/plain": [
              "<Figure size 720x504 with 1 Axes>"
            ]
          },
          "metadata": {
            "needs_background": "light"
          }
        }
      ]
    }
  ]
}